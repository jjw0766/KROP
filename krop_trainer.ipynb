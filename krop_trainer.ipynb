{
 "cells": [
  {
   "cell_type": "code",
   "execution_count": 1,
   "id": "2e776a33",
   "metadata": {},
   "outputs": [
    {
     "data": {
      "text/plain": [
       "True"
      ]
     },
     "execution_count": 1,
     "metadata": {},
     "output_type": "execute_result"
    }
   ],
   "source": [
    "from dotenv import load_dotenv\n",
    "load_dotenv()"
   ]
  },
  {
   "cell_type": "code",
   "execution_count": 2,
   "id": "fb49514d",
   "metadata": {},
   "outputs": [],
   "source": [
    "import lightning as L"
   ]
  },
  {
   "cell_type": "code",
   "execution_count": 3,
   "id": "85fcb416",
   "metadata": {},
   "outputs": [],
   "source": [
    "from src.model.modeling_krop import LitKrop\n",
    "from src.data.dataset import get_dacon_train_dataloader, get_dacon_dev_dataloader\n"
   ]
  },
  {
   "cell_type": "code",
   "execution_count": null,
   "id": "f9a8ac6d",
   "metadata": {},
   "outputs": [],
   "source": [
    "SEED=42\n",
    "DATASET_NAME = 'jwengr/DACON-Korean-Review-Obfuscation'\n",
    "BATCH_SIZE=2\n",
    "BASE_MODEL_NAME='Qwen/Qwen3-0.6B'\n",
    "LEARNING_RATE = 5e-5\n",
    "TASK='jamo'\n",
    "TRAIN_MAX_LENGTH=256\n",
    "VALID_MAX_LENGTH=512"
   ]
  },
  {
   "cell_type": "code",
   "execution_count": 5,
   "id": "0149c65a",
   "metadata": {},
   "outputs": [
    {
     "name": "stderr",
     "output_type": "stream",
     "text": [
      "Seed set to 42\n"
     ]
    },
    {
     "data": {
      "text/plain": [
       "42"
      ]
     },
     "execution_count": 5,
     "metadata": {},
     "output_type": "execute_result"
    }
   ],
   "source": [
    "L.seed_everything(SEED)"
   ]
  },
  {
   "cell_type": "code",
   "execution_count": null,
   "id": "a3b31818",
   "metadata": {},
   "outputs": [
    {
     "data": {
      "application/vnd.jupyter.widget-view+json": {
       "model_id": "c8b8156fc3ba46fc99b5a0eafc1c23fa",
       "version_major": 2,
       "version_minor": 0
      },
      "text/plain": [
       "README.md:   0%|          | 0.00/514 [00:00<?, ?B/s]"
      ]
     },
     "metadata": {},
     "output_type": "display_data"
    },
    {
     "name": "stderr",
     "output_type": "stream",
     "text": [
      "c:\\Users\\jinwo\\.virtualenvs\\KROP-L3im0CPD\\Lib\\site-packages\\huggingface_hub\\file_download.py:143: UserWarning: `huggingface_hub` cache-system uses symlinks by default to efficiently store duplicated files but your machine does not support them in C:\\Users\\jinwo\\.cache\\huggingface\\hub\\datasets--jwengr--DACON-Korean-Review-Obfuscation. Caching files will still work but in a degraded version that might require more space on your disk. This warning can be disabled by setting the `HF_HUB_DISABLE_SYMLINKS_WARNING` environment variable. For more details, see https://huggingface.co/docs/huggingface_hub/how-to-cache#limitations.\n",
      "To support symlinks on Windows, you either need to activate Developer Mode or to run Python as an administrator. In order to activate developer mode, see this article: https://docs.microsoft.com/en-us/windows/apps/get-started/enable-your-device-for-development\n",
      "  warnings.warn(message)\n"
     ]
    },
    {
     "data": {
      "application/vnd.jupyter.widget-view+json": {
       "model_id": "ed66a5042fa44e96a0f88708728849c3",
       "version_major": 2,
       "version_minor": 0
      },
      "text/plain": [
       "train-00000-of-00001.parquet:   0%|          | 0.00/3.03M [00:00<?, ?B/s]"
      ]
     },
     "metadata": {},
     "output_type": "display_data"
    },
    {
     "data": {
      "application/vnd.jupyter.widget-view+json": {
       "model_id": "261cbe83d60c46d4830f672ed047eb9b",
       "version_major": 2,
       "version_minor": 0
      },
      "text/plain": [
       "dev-00000-of-00001.parquet:   0%|          | 0.00/377k [00:00<?, ?B/s]"
      ]
     },
     "metadata": {},
     "output_type": "display_data"
    },
    {
     "data": {
      "application/vnd.jupyter.widget-view+json": {
       "model_id": "e40caac47ec64b4f8b73779156875edd",
       "version_major": 2,
       "version_minor": 0
      },
      "text/plain": [
       "test-00000-of-00001.parquet:   0%|          | 0.00/383k [00:00<?, ?B/s]"
      ]
     },
     "metadata": {},
     "output_type": "display_data"
    },
    {
     "data": {
      "application/vnd.jupyter.widget-view+json": {
       "model_id": "580f42a532a74bada5be99d5fdd5ad70",
       "version_major": 2,
       "version_minor": 0
      },
      "text/plain": [
       "Generating train split:   0%|          | 0/9011 [00:00<?, ? examples/s]"
      ]
     },
     "metadata": {},
     "output_type": "display_data"
    },
    {
     "data": {
      "application/vnd.jupyter.widget-view+json": {
       "model_id": "63a4634c1f6740b79563f2438c6e0d42",
       "version_major": 2,
       "version_minor": 0
      },
      "text/plain": [
       "Generating dev split:   0%|          | 0/1126 [00:00<?, ? examples/s]"
      ]
     },
     "metadata": {},
     "output_type": "display_data"
    },
    {
     "data": {
      "application/vnd.jupyter.widget-view+json": {
       "model_id": "00fb000579bf4e70a4d43760ffc4a75f",
       "version_major": 2,
       "version_minor": 0
      },
      "text/plain": [
       "Generating test split:   0%|          | 0/1126 [00:00<?, ? examples/s]"
      ]
     },
     "metadata": {},
     "output_type": "display_data"
    }
   ],
   "source": [
    "train_dl = get_dacon_train_dataloader(DATASET_NAME, batch_size=BATCH_SIZE)\n",
    "dev_dl = get_dacon_dev_dataloader(DATASET_NAME, batch_size=BATCH_SIZE)"
   ]
  },
  {
   "cell_type": "code",
   "execution_count": 7,
   "id": "57e75a9d",
   "metadata": {},
   "outputs": [],
   "source": [
    "lit_krop = LitKrop(\n",
    "    base_model_name=BASE_MODEL_NAME,\n",
    "    lr=LEARNING_RATE,\n",
    "    task=TASK\n",
    ")"
   ]
  },
  {
   "cell_type": "code",
   "execution_count": 8,
   "id": "971fb0d7",
   "metadata": {},
   "outputs": [
    {
     "name": "stderr",
     "output_type": "stream",
     "text": [
      "Using 16bit Automatic Mixed Precision (AMP)\n",
      "💡 Tip: For seamless cloud uploads and versioning, try installing [litmodels](https://pypi.org/project/litmodels/) to enable LitModelCheckpoint, which syncs automatically with the Lightning model registry.\n",
      "GPU available: True (cuda), used: True\n",
      "TPU available: False, using: 0 TPU cores\n",
      "HPU available: False, using: 0 HPUs\n"
     ]
    }
   ],
   "source": [
    "trainer = L.Trainer(\n",
    "    precision='16-mixed',\n",
    "    max_epochs=10,\n",
    "    enable_checkpointing=True\n",
    ")"
   ]
  },
  {
   "cell_type": "code",
   "execution_count": 9,
   "id": "4cc8d0e7",
   "metadata": {},
   "outputs": [
    {
     "name": "stderr",
     "output_type": "stream",
     "text": [
      "You are using a CUDA device ('NVIDIA GeForce RTX 5070 Ti') that has Tensor Cores. To properly utilize them, you should set `torch.set_float32_matmul_precision('medium' | 'high')` which will trade-off precision for performance. For more details, read https://pytorch.org/docs/stable/generated/torch.set_float32_matmul_precision.html#torch.set_float32_matmul_precision\n",
      "LOCAL_RANK: 0 - CUDA_VISIBLE_DEVICES: [0]\n",
      "c:\\Users\\jinwo\\.virtualenvs\\KROP-L3im0CPD\\Lib\\site-packages\\lightning\\pytorch\\trainer\\connectors\\data_connector.py:425: The 'val_dataloader' does not have many workers which may be a bottleneck. Consider increasing the value of the `num_workers` argument` to `num_workers=11` in the `DataLoader` to improve performance.\n"
     ]
    },
    {
     "data": {
      "application/vnd.jupyter.widget-view+json": {
       "model_id": "28f93fc415194624b6792e61d2c27d6f",
       "version_major": 2,
       "version_minor": 0
      },
      "text/plain": [
       "Validation: |          | 0/? [00:00<?, ?it/s]"
      ]
     },
     "metadata": {},
     "output_type": "display_data"
    },
    {
     "name": "stdout",
     "output_type": "stream",
     "text": [
      "────────────────────────────────────────────────────────────────────────────────────────────────────────────────────────\n",
      "     Validate metric           DataLoader 0\n",
      "────────────────────────────────────────────────────────────────────────────────────────────────────────────────────────\n",
      "       valid_loss            8.223331451416016\n",
      "────────────────────────────────────────────────────────────────────────────────────────────────────────────────────────\n"
     ]
    },
    {
     "data": {
      "text/plain": [
       "[{'valid_loss': 8.223331451416016}]"
      ]
     },
     "execution_count": 9,
     "metadata": {},
     "output_type": "execute_result"
    }
   ],
   "source": [
    "trainer.validate(lit_krop, dev_dl)"
   ]
  },
  {
   "cell_type": "code",
   "execution_count": null,
   "id": "63179367",
   "metadata": {},
   "outputs": [
    {
     "name": "stdout",
     "output_type": "stream",
     "text": [
      "\u001b[31mSignature:\u001b[39m\n",
      "trainer.fit(\n",
      "    model: \u001b[33m'pl.LightningModule'\u001b[39m,\n",
      "    train_dataloaders: Union[Any, lightning.pytorch.core.datamodule.LightningDataModule, NoneType] = \u001b[38;5;28;01mNone\u001b[39;00m,\n",
      "    val_dataloaders: Optional[Any] = \u001b[38;5;28;01mNone\u001b[39;00m,\n",
      "    datamodule: Optional[lightning.pytorch.core.datamodule.LightningDataModule] = \u001b[38;5;28;01mNone\u001b[39;00m,\n",
      "    ckpt_path: Union[str, pathlib.Path, NoneType] = \u001b[38;5;28;01mNone\u001b[39;00m,\n",
      ") -> \u001b[38;5;28;01mNone\u001b[39;00m\n",
      "\u001b[31mDocstring:\u001b[39m\n",
      "Runs the full optimization routine.\n",
      "\n",
      "Args:\n",
      "    model: Model to fit.\n",
      "\n",
      "    train_dataloaders: An iterable or collection of iterables specifying training samples.\n",
      "        Alternatively, a :class:`~lightning.pytorch.core.datamodule.LightningDataModule` that defines\n",
      "        the :class:`~lightning.pytorch.core.hooks.DataHooks.train_dataloader` hook.\n",
      "\n",
      "    val_dataloaders: An iterable or collection of iterables specifying validation samples.\n",
      "\n",
      "    datamodule: A :class:`~lightning.pytorch.core.datamodule.LightningDataModule` that defines\n",
      "        the :class:`~lightning.pytorch.core.hooks.DataHooks.train_dataloader` hook.\n",
      "\n",
      "    ckpt_path: Path/URL of the checkpoint from which training is resumed. Could also be one of two special\n",
      "        keywords ``\"last\"``, ``\"hpc\"`` and ``\"registry\"``.\n",
      "        Otherwise, if there is no checkpoint file at the path, an exception is raised.\n",
      "\n",
      "            - best: the best model checkpoint from the previous ``trainer.fit`` call will be loaded\n",
      "            - last: the last model checkpoint from the previous ``trainer.fit`` call will be loaded\n",
      "            - registry: the model will be downloaded from the Lightning Model Registry with following notations:\n",
      "\n",
      "                - ``'registry'``: uses the latest/default version of default model set\n",
      "                  with ``Tainer(..., model_registry=\"my-model\")``\n",
      "                - ``'registry:model-name'``: uses the latest/default version of this model `model-name`\n",
      "                - ``'registry:model-name:version:v2'``: uses the specific version 'v2' of the model `model-name`\n",
      "                - ``'registry:version:v2'``: uses the default model set\n",
      "                  with ``Tainer(..., model_registry=\"my-model\")`` and version 'v2'\n",
      "\n",
      "\n",
      "Raises:\n",
      "    TypeError:\n",
      "        If ``model`` is not :class:`~lightning.pytorch.core.LightningModule` for torch version less than\n",
      "        2.0.0 and if ``model`` is not :class:`~lightning.pytorch.core.LightningModule` or\n",
      "        :class:`torch._dynamo.OptimizedModule` for torch versions greater than or equal to 2.0.0 .\n",
      "\n",
      "For more information about multiple dataloaders, see this :ref:`section <multiple-dataloaders>`.\n",
      "\u001b[31mFile:\u001b[39m      c:\\users\\jinwo\\.virtualenvs\\krop-l3im0cpd\\lib\\site-packages\\lightning\\pytorch\\trainer\\trainer.py\n",
      "\u001b[31mType:\u001b[39m      method"
     ]
    }
   ],
   "source": [
    "trainer.fit(lit_krop, train_dl, dev_dl)"
   ]
  }
 ],
 "metadata": {
  "kernelspec": {
   "display_name": "KROP-L3im0CPD",
   "language": "python",
   "name": "python3"
  },
  "language_info": {
   "codemirror_mode": {
    "name": "ipython",
    "version": 3
   },
   "file_extension": ".py",
   "mimetype": "text/x-python",
   "name": "python",
   "nbconvert_exporter": "python",
   "pygments_lexer": "ipython3",
   "version": "3.12.7"
  }
 },
 "nbformat": 4,
 "nbformat_minor": 5
}
