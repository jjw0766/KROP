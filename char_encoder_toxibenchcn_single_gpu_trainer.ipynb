{
 "cells": [
  {
   "cell_type": "code",
   "execution_count": 1,
   "id": "091f8b74",
   "metadata": {},
   "outputs": [
    {
     "data": {
      "text/plain": [
       "True"
      ]
     },
     "execution_count": 1,
     "metadata": {},
     "output_type": "execute_result"
    }
   ],
   "source": [
    "import os\n",
    "os.environ[\"CUDA_DEVICE_ORDER\"]=\"PCI_BUS_ID\"   # see issue #152\n",
    "os.environ[\"CUDA_VISIBLE_DEVICES\"]=\"2\"\n",
    "\n",
    "from dotenv import load_dotenv\n",
    "load_dotenv()"
   ]
  },
  {
   "cell_type": "code",
   "execution_count": 2,
   "id": "9cec0490",
   "metadata": {},
   "outputs": [
    {
     "name": "stderr",
     "output_type": "stream",
     "text": [
      "/home/jjw1214/.conda/envs/jjw1214_py312/lib/python3.12/site-packages/tqdm/auto.py:21: TqdmWarning: IProgress not found. Please update jupyter and ipywidgets. See https://ipywidgets.readthedocs.io/en/stable/user_install.html\n",
      "  from .autonotebook import tqdm as notebook_tqdm\n"
     ]
    }
   ],
   "source": [
    "import pandas as pd\n",
    "import lightning as L\n",
    "\n",
    "from tqdm.auto import tqdm\n",
    "from lightning.pytorch.callbacks import ModelCheckpoint\n",
    "\n",
    "from src.model.modeling_char_encoder import LitCharEncoder\n",
    "from src.data.dataset import get_train_dataloader, get_dev_dataloader, get_test_dataloader"
   ]
  },
  {
   "cell_type": "code",
   "execution_count": 3,
   "id": "a6044fa7",
   "metadata": {},
   "outputs": [
    {
     "name": "stderr",
     "output_type": "stream",
     "text": [
      "Seed set to 42\n"
     ]
    },
    {
     "data": {
      "text/plain": [
       "42"
      ]
     },
     "execution_count": 3,
     "metadata": {},
     "output_type": "execute_result"
    }
   ],
   "source": [
    "SEED=42\n",
    "DATASET_NAME = 'jwengr/ToxiBenchCN'\n",
    "SPACE_TOKEN = '[SEP]'\n",
    "UNK_TOKEN = '[UNK]'\n",
    "PAD_TOKEN = '[PAD]'\n",
    "MINI_BATCH_SIZE=32\n",
    "N_BATCH = 1\n",
    "BASE_MODEL_NAME='google-bert/bert-base-chinese'\n",
    "EPOCHS=10\n",
    "LEARNING_RATE = 5e-5\n",
    "TRAIN_MAX_LENGTH=128\n",
    "VALID_MAX_LENGTH=128\n",
    "INFERENCE_SENTENCE_MAX_LENGTH=64\n",
    "INFERENCE_SENTENCE_MIN_LENGTH=32\n",
    "INFERENCE_SENTENCE_N_OVERLAP=3\n",
    "\n",
    "L.seed_everything(SEED)"
   ]
  },
  {
   "cell_type": "code",
   "execution_count": 4,
   "id": "2e64a51c",
   "metadata": {},
   "outputs": [],
   "source": [
    "train_dl = get_train_dataloader(DATASET_NAME, batch_size=MINI_BATCH_SIZE, max_length=TRAIN_MAX_LENGTH)\n",
    "dev_dl = get_dev_dataloader(DATASET_NAME, batch_size=MINI_BATCH_SIZE, max_length=VALID_MAX_LENGTH)\n",
    "test_dl = get_test_dataloader(DATASET_NAME, batch_size=MINI_BATCH_SIZE)"
   ]
  },
  {
   "cell_type": "code",
   "execution_count": null,
   "id": "a327ad0b",
   "metadata": {},
   "outputs": [],
   "source": [
    "lit_char_encoder = LitCharEncoder(\n",
    "    base_model_name=BASE_MODEL_NAME,\n",
    "    space_token=SPACE_TOKEN,\n",
    "    unk_token=UNK_TOKEN,\n",
    "    pad_token=PAD_TOKEN,\n",
    "    lr=LEARNING_RATE,\n",
    "    epochs=EPOCHS,\n",
    "    inference_sentence_max_length=INFERENCE_SENTENCE_MAX_LENGTH,\n",
    "    inference_sentence_min_length=INFERENCE_SENTENCE_MIN_LENGTH,\n",
    "    inference_sentence_n_overlap=INFERENCE_SENTENCE_N_OVERLAP,\n",
    ")\n",
    "\n",
    "checkpoint_callback = ModelCheckpoint(\n",
    "    dirpath='checkpoints/charencoder',\n",
    "    filename=f\"{DATASET_NAME.split('/')[1]}/{BASE_MODEL_NAME.split('/')[1]}\"+\"-{epoch:02d}-{valid_loss:.4f}\",\n",
    "    every_n_epochs=1,\n",
    "    save_top_k=-1,\n",
    ")\n",
    "\n",
    "trainer = L.Trainer(\n",
    "    callbacks=[checkpoint_callback],\n",
    "    # precision='bf16',\n",
    "    max_epochs=EPOCHS,\n",
    "    enable_checkpointing=True,\n",
    "    accumulate_grad_batches=N_BATCH\n",
    ")\n",
    "\n",
    "trainer.fit(lit_char_encoder, train_dl, dev_dl)"
   ]
  },
  {
   "cell_type": "code",
   "execution_count": 6,
   "id": "80297843",
   "metadata": {},
   "outputs": [
    {
     "name": "stderr",
     "output_type": "stream",
     "text": [
      "/home/jjw1214/.conda/envs/jjw1214_py312/lib/python3.12/site-packages/transformers/models/auto/modeling_auto.py:2178: FutureWarning: The class `AutoModelWithLMHead` is deprecated and will be removed in a future version. Please use `AutoModelForCausalLM` for causal language models, `AutoModelForMaskedLM` for masked language models and `AutoModelForSeq2SeqLM` for encoder-decoder models.\n",
      "  warnings.warn(\n",
      "Some weights of the model checkpoint at google-bert/bert-base-chinese were not used when initializing BertForMaskedLM: ['bert.pooler.dense.bias', 'bert.pooler.dense.weight', 'cls.seq_relationship.bias', 'cls.seq_relationship.weight']\n",
      "- This IS expected if you are initializing BertForMaskedLM from the checkpoint of a model trained on another task or with another architecture (e.g. initializing a BertForSequenceClassification model from a BertForPreTraining model).\n",
      "- This IS NOT expected if you are initializing BertForMaskedLM from the checkpoint of a model that you expect to be exactly identical (initializing a BertForSequenceClassification model from a BertForSequenceClassification model).\n"
     ]
    }
   ],
   "source": [
    "lit_char_encoder = LitCharEncoder.load_from_checkpoint(\n",
    "    'checkpoints/charencoder/ToxiBenchCN/bert-base-chinese-epoch=00-valid_loss=1.1117.ckpt',\n",
    "    base_model_name=BASE_MODEL_NAME,\n",
    "    space_token=SPACE_TOKEN,\n",
    "    unk_token=UNK_TOKEN,\n",
    "    pad_token=PAD_TOKEN,\n",
    "    lr=LEARNING_RATE,\n",
    "    epochs=EPOCHS,\n",
    "    inference_sentence_max_length=INFERENCE_SENTENCE_MAX_LENGTH,\n",
    "    inference_sentence_min_length=INFERENCE_SENTENCE_MIN_LENGTH,\n",
    "    inference_sentence_n_overlap=INFERENCE_SENTENCE_N_OVERLAP,\n",
    ")"
   ]
  },
  {
   "cell_type": "code",
   "execution_count": 7,
   "id": "93a6f506",
   "metadata": {},
   "outputs": [
    {
     "name": "stderr",
     "output_type": "stream",
     "text": [
      "💡 Tip: For seamless cloud uploads and versioning, try installing [litmodels](https://pypi.org/project/litmodels/) to enable LitModelCheckpoint, which syncs automatically with the Lightning model registry.\n",
      "GPU available: True (cuda), used: True\n",
      "TPU available: False, using: 0 TPU cores\n",
      "HPU available: False, using: 0 HPUs\n"
     ]
    }
   ],
   "source": [
    "trainer = L.Trainer()"
   ]
  },
  {
   "cell_type": "code",
   "execution_count": 8,
   "id": "ff33be11",
   "metadata": {},
   "outputs": [
    {
     "name": "stderr",
     "output_type": "stream",
     "text": [
      "You are using a CUDA device ('NVIDIA A100-SXM4-80GB') that has Tensor Cores. To properly utilize them, you should set `torch.set_float32_matmul_precision('medium' | 'high')` which will trade-off precision for performance. For more details, read https://pytorch.org/docs/stable/generated/torch.set_float32_matmul_precision.html#torch.set_float32_matmul_precision\n",
      "LOCAL_RANK: 0 - CUDA_VISIBLE_DEVICES: [2]\n",
      "/home/jjw1214/.conda/envs/jjw1214_py312/lib/python3.12/site-packages/lightning/pytorch/trainer/connectors/data_connector.py:433: The 'predict_dataloader' does not have many workers which may be a bottleneck. Consider increasing the value of the `num_workers` argument` to `num_workers=127` in the `DataLoader` to improve performance.\n"
     ]
    },
    {
     "name": "stdout",
     "output_type": "stream",
     "text": [
      "Predicting DataLoader 0: 100%|██████████| 48/48 [00:08<00:00,  5.62it/s]\n"
     ]
    }
   ],
   "source": [
    "preds = trainer.predict(lit_char_encoder, test_dl)"
   ]
  },
  {
   "cell_type": "code",
   "execution_count": 9,
   "id": "93d9b999",
   "metadata": {},
   "outputs": [
    {
     "name": "stderr",
     "output_type": "stream",
     "text": [
      "100%|██████████| 48/48 [00:00<00:00, 257450.88it/s]\n"
     ]
    }
   ],
   "source": [
    "prediction = []\n",
    "\n",
    "for pred in tqdm(preds):\n",
    "    prediction.extend(pred)"
   ]
  },
  {
   "cell_type": "code",
   "execution_count": 10,
   "id": "ef6a25db",
   "metadata": {},
   "outputs": [],
   "source": [
    "categories = []\n",
    "inputs = []\n",
    "true = []\n",
    "for batch in test_dl:\n",
    "    true.extend(batch['sentence'])\n",
    "    inputs.extend(batch['sentence_noisy'])\n",
    "    categories.extend(batch['category'])"
   ]
  },
  {
   "cell_type": "code",
   "execution_count": 11,
   "id": "bf512734",
   "metadata": {},
   "outputs": [],
   "source": [
    "result_df = pd.DataFrame()\n",
    "result_df['input'] = inputs\n",
    "result_df['pred'] = prediction\n",
    "result_df['true'] = true\n",
    "result_df['category'] = categories"
   ]
  },
  {
   "cell_type": "code",
   "execution_count": 17,
   "id": "6c628654",
   "metadata": {},
   "outputs": [
    {
     "data": {
      "text/html": [
       "<div>\n",
       "<style scoped>\n",
       "    .dataframe tbody tr th:only-of-type {\n",
       "        vertical-align: middle;\n",
       "    }\n",
       "\n",
       "    .dataframe tbody tr th {\n",
       "        vertical-align: top;\n",
       "    }\n",
       "\n",
       "    .dataframe thead th {\n",
       "        text-align: right;\n",
       "    }\n",
       "</style>\n",
       "<table border=\"1\" class=\"dataframe\">\n",
       "  <thead>\n",
       "    <tr style=\"text-align: right;\">\n",
       "      <th></th>\n",
       "      <th>input</th>\n",
       "      <th>pred</th>\n",
       "      <th>true</th>\n",
       "      <th>category</th>\n",
       "    </tr>\n",
       "  </thead>\n",
       "  <tbody>\n",
       "    <tr>\n",
       "      <th>22</th>\n",
       "      <td>💦🌧️黑子出来答话</td>\n",
       "      <td>💦🌧️黑子出来就话</td>\n",
       "      <td>地域黑子出来答话</td>\n",
       "      <td>emo</td>\n",
       "    </tr>\n",
       "    <tr>\n",
       "      <th>79</th>\n",
       "      <td>正什么歪成什么样子了都是群🈵👄🔪🉐仁1️⃣的🐶在搞笑</td>\n",
       "      <td>正什么歪成什么样子了都是群群👄不不仁1️⃣的人在搞笑</td>\n",
       "      <td>正什么歪成什么样子了都是群满嘴道德仁义的狗在搞笑</td>\n",
       "      <td>emo</td>\n",
       "    </tr>\n",
       "    <tr>\n",
       "      <th>88</th>\n",
       "      <td>爱家乡不分男女，可📉🀂人是为了黑2️⃣生😅</td>\n",
       "      <td>爱家乡不分男女，可以女人是为了黑2️⃣生活</td>\n",
       "      <td>爱家乡不分男女，可江西人是为了黑而生😅</td>\n",
       "      <td>emo</td>\n",
       "    </tr>\n",
       "    <tr>\n",
       "      <th>97</th>\n",
       "      <td>阿🌶️🌊都不要黑人</td>\n",
       "      <td>阿🌶️🌊都不要黑人</td>\n",
       "      <td>阿拉伯都不要黑人</td>\n",
       "      <td>emo</td>\n",
       "    </tr>\n",
       "    <tr>\n",
       "      <th>99</th>\n",
       "      <td>这男的也是个👅🐶，这种情况⬇还不⬇💀🖐️起诉法院</td>\n",
       "      <td>这男的也是个坏佬，这种情况下还不会双🖐️起诉法院</td>\n",
       "      <td>这男的也是个舔狗，这种情况下还不下死手起诉法院</td>\n",
       "      <td>emo</td>\n",
       "    </tr>\n",
       "    <tr>\n",
       "      <th>111</th>\n",
       "      <td>异性恋的恋童🍺应该⬇💦🌧️嗷</td>\n",
       "      <td>异性恋的恋童恋应该抵应🌧️嗷</td>\n",
       "      <td>异性恋的恋童癖应该下地狱嗷</td>\n",
       "      <td>emo</td>\n",
       "    </tr>\n",
       "    <tr>\n",
       "      <th>140</th>\n",
       "      <td>异性恋的恋童🍺应该⬇💦🌧️嗷</td>\n",
       "      <td>异性恋的恋童恋应该抵应🌧️嗷</td>\n",
       "      <td>异性恋的恋童癖应该下地狱嗷</td>\n",
       "      <td>emo</td>\n",
       "    </tr>\n",
       "    <tr>\n",
       "      <th>162</th>\n",
       "      <td>所以说嘛他在哪个吧都是这个13味2️⃣🐴他就对了</td>\n",
       "      <td>所以说嘛他在哪个吧都是这个13味2️⃣🐴他就对了</td>\n",
       "      <td>所以说嘛他在哪个吧都是这个13味儿骂他就对了</td>\n",
       "      <td>emo</td>\n",
       "    </tr>\n",
       "    <tr>\n",
       "      <th>202</th>\n",
       "      <td>你✌️die们在呼唤你</td>\n",
       "      <td>你✌️die恶在呼唤你</td>\n",
       "      <td>你野die们在呼唤你</td>\n",
       "      <td>emo</td>\n",
       "    </tr>\n",
       "    <tr>\n",
       "      <th>254</th>\n",
       "      <td>我7️⃣🔟有🀄🦶7️⃣🔟的人和黑人🐶🐶</td>\n",
       "      <td>我7️⃣北有男族歧视的人和黑人🐶🐶</td>\n",
       "      <td>我歧视有种族歧视的人和黑人🐶🐶</td>\n",
       "      <td>emo</td>\n",
       "    </tr>\n",
       "    <tr>\n",
       "      <th>270</th>\n",
       "      <td>什么？同连😁☀️📕都🐢？</td>\n",
       "      <td>什么？同连男☀️族都🐢？</td>\n",
       "      <td>什么？同连小日本都跪？</td>\n",
       "      <td>emo</td>\n",
       "    </tr>\n",
       "  </tbody>\n",
       "</table>\n",
       "</div>"
      ],
      "text/plain": [
       "                          input                        pred  \\\n",
       "22                    💦🌧️黑子出来答话                   💦🌧️黑子出来就话   \n",
       "79   正什么歪成什么样子了都是群🈵👄🔪🉐仁1️⃣的🐶在搞笑  正什么歪成什么样子了都是群群👄不不仁1️⃣的人在搞笑   \n",
       "88        爱家乡不分男女，可📉🀂人是为了黑2️⃣生😅       爱家乡不分男女，可以女人是为了黑2️⃣生活   \n",
       "97                    阿🌶️🌊都不要黑人                   阿🌶️🌊都不要黑人   \n",
       "99     这男的也是个👅🐶，这种情况⬇还不⬇💀🖐️起诉法院    这男的也是个坏佬，这种情况下还不会双🖐️起诉法院   \n",
       "111              异性恋的恋童🍺应该⬇💦🌧️嗷              异性恋的恋童恋应该抵应🌧️嗷   \n",
       "140              异性恋的恋童🍺应该⬇💦🌧️嗷              异性恋的恋童恋应该抵应🌧️嗷   \n",
       "162    所以说嘛他在哪个吧都是这个13味2️⃣🐴他就对了    所以说嘛他在哪个吧都是这个13味2️⃣🐴他就对了   \n",
       "202                 你✌️die们在呼唤你                 你✌️die恶在呼唤你   \n",
       "254         我7️⃣🔟有🀄🦶7️⃣🔟的人和黑人🐶🐶           我7️⃣北有男族歧视的人和黑人🐶🐶   \n",
       "270                什么？同连😁☀️📕都🐢？                什么？同连男☀️族都🐢？   \n",
       "\n",
       "                         true category  \n",
       "22                   地域黑子出来答话      emo  \n",
       "79   正什么歪成什么样子了都是群满嘴道德仁义的狗在搞笑      emo  \n",
       "88        爱家乡不分男女，可江西人是为了黑而生😅      emo  \n",
       "97                   阿拉伯都不要黑人      emo  \n",
       "99    这男的也是个舔狗，这种情况下还不下死手起诉法院      emo  \n",
       "111             异性恋的恋童癖应该下地狱嗷      emo  \n",
       "140             异性恋的恋童癖应该下地狱嗷      emo  \n",
       "162    所以说嘛他在哪个吧都是这个13味儿骂他就对了      emo  \n",
       "202                你野die们在呼唤你      emo  \n",
       "254           我歧视有种族歧视的人和黑人🐶🐶      emo  \n",
       "270               什么？同连小日本都跪？      emo  "
      ]
     },
     "execution_count": 17,
     "metadata": {},
     "output_type": "execute_result"
    }
   ],
   "source": [
    "result_df[result_df['pred'].apply(len)!=result_df['true'].apply(len)]"
   ]
  },
  {
   "cell_type": "code",
   "execution_count": 25,
   "id": "81dc5a24",
   "metadata": {},
   "outputs": [
    {
     "name": "stdout",
     "output_type": "stream",
     "text": [
      "trad {'S_D_p': 62.376, 'S_D_r': 71.591, 'S_D_f1': 66.667, 'S_C_p': 51.485, 'S_C_r': 59.091, 'S_C_f1': 55.026, 'C_D_p': 75.309, 'C_D_r': 99.728, 'C_D_f1': 85.815, 'C_C_p': 68.519, 'C_C_r': 90.736, 'C_C_f1': 78.078}\n",
      "emo {'S_D_p': 53.815, 'S_D_r': 52.344, 'S_D_f1': 53.069, 'S_C_p': 8.835, 'S_C_r': 8.594, 'S_C_f1': 8.713, 'C_D_p': 87.037, 'C_D_r': 86.823, 'C_D_f1': 86.93, 'C_C_p': 24.938, 'C_C_r': 24.877, 'C_C_f1': 24.907}\n",
      "homo {'S_D_p': 19.512, 'S_D_r': 19.2, 'S_D_f1': 19.355, 'S_C_p': 5.285, 'S_C_r': 5.2, 'S_C_f1': 5.242, 'C_D_p': 87.149, 'C_D_r': 71.039, 'C_D_f1': 78.274, 'C_C_p': 31.965, 'C_C_r': 26.056, 'C_C_f1': 28.71}\n",
      "swap {'S_D_p': 5.761, 'S_D_r': 5.578, 'S_D_f1': 5.668, 'S_C_p': 2.469, 'S_C_r': 2.39, 'S_C_f1': 2.429, 'C_D_p': 69.578, 'C_D_r': 47.187, 'C_D_f1': 56.236, 'C_C_p': 31.295, 'C_C_r': 21.224, 'C_C_f1': 25.294}\n",
      "radical {'S_D_p': 40.0, 'S_D_r': 40.664, 'S_D_f1': 40.329, 'S_C_p': 11.02, 'S_C_r': 11.203, 'S_C_f1': 11.111, 'C_D_p': 84.559, 'C_D_r': 81.657, 'C_D_f1': 83.083, 'C_C_p': 35.662, 'C_C_r': 34.438, 'C_C_f1': 35.039}\n",
      "pinyin {'S_D_p': 71.548, 'S_D_r': 71.25, 'S_D_f1': 71.399, 'S_C_p': 6.276, 'S_C_r': 6.25, 'S_C_f1': 6.263, 'C_D_p': 94.14, 'C_D_r': 97.096, 'C_D_f1': 95.595, 'C_C_p': 30.594, 'C_C_r': 31.554, 'C_C_f1': 31.067}\n"
     ]
    }
   ],
   "source": [
    "for cat in set(result_df['category']):\n",
    "    cat_df = result_df[result_df['category']==cat].copy()\n",
    "    result, result_list = calculate_metric(cat_df['input'].tolist(), cat_df['true'].tolist(), cat_df['pred'].tolist())\n",
    "    print(cat, result)"
   ]
  },
  {
   "cell_type": "code",
   "execution_count": 11,
   "id": "af1b794a",
   "metadata": {},
   "outputs": [
    {
     "data": {
      "text/plain": [
       "30"
      ]
     },
     "execution_count": 11,
     "metadata": {},
     "output_type": "execute_result"
    }
   ],
   "source": [
    "len(ids)"
   ]
  },
  {
   "cell_type": "code",
   "execution_count": 21,
   "id": "0e6aa9f9",
   "metadata": {},
   "outputs": [],
   "source": [
    "sentence = '你应该可怜那些💦🌧️7️⃣🔟的人 他们就是活在网络上的㊗🐛'\n",
    "self = lit_char_encoder.encoder.tokenizer"
   ]
  },
  {
   "cell_type": "code",
   "execution_count": 27,
   "id": "d4c05708",
   "metadata": {},
   "outputs": [
    {
     "name": "stdout",
     "output_type": "stream",
     "text": [
      "你 1\n",
      "应 2\n",
      "该 3\n",
      "可 4\n",
      "怜 5\n",
      "那 6\n",
      "些 7\n",
      "💦 8\n",
      "🌧️ 9\n",
      "7️⃣ 10\n",
      "🔟 11\n",
      "的 12\n",
      "人 13\n",
      "[SEP] 14\n",
      "他 15\n",
      "们 16\n",
      "就 17\n",
      "是 18\n",
      "活 19\n",
      "在 20\n",
      "网 21\n",
      "络 22\n",
      "上 23\n",
      "的 24\n",
      "㊗ 25\n",
      "🐛 26\n"
     ]
    }
   ],
   "source": [
    "# sentence = sentence.replace(' ', self.space_token)\n",
    "encoded_ids = []\n",
    "token_type_ids = []\n",
    "for char in graphemes(sentence):\n",
    "    if char==' ':\n",
    "        char = self.space_token\n",
    "    if self.target_chars_dict:\n",
    "        if self.target_chars_dict.get(ord(char)):\n",
    "            token_type_ids.extend([1])\n",
    "        else:\n",
    "            token_type_ids.extend([0])\n",
    "    else:\n",
    "        token_type_ids.extend([1])\n",
    "    encoded_id = self.base_tokenizer.encode(char, add_special_tokens=False)[:1]\n",
    "    if not encoded_id:\n",
    "        encoded_id = [self.unk_token_id]\n",
    "    encoded_ids.extend(encoded_id)\n",
    "    print(char, len(encoded_ids))\n"
   ]
  },
  {
   "cell_type": "code",
   "execution_count": null,
   "id": "30f5b2bf",
   "metadata": {},
   "outputs": [],
   "source": []
  }
 ],
 "metadata": {
  "kernelspec": {
   "display_name": "jjw1214_py312",
   "language": "python",
   "name": "python3"
  },
  "language_info": {
   "codemirror_mode": {
    "name": "ipython",
    "version": 3
   },
   "file_extension": ".py",
   "mimetype": "text/x-python",
   "name": "python",
   "nbconvert_exporter": "python",
   "pygments_lexer": "ipython3",
   "version": "3.12.0"
  }
 },
 "nbformat": 4,
 "nbformat_minor": 5
}
