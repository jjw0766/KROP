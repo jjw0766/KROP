{
 "cells": [
  {
   "cell_type": "code",
   "execution_count": 1,
   "id": "8796c965",
   "metadata": {},
   "outputs": [
    {
     "data": {
      "text/plain": [
       "True"
      ]
     },
     "execution_count": 1,
     "metadata": {},
     "output_type": "execute_result"
    }
   ],
   "source": [
    "from dotenv import load_dotenv\n",
    "load_dotenv()"
   ]
  },
  {
   "cell_type": "code",
   "execution_count": null,
   "id": "d99af3c6",
   "metadata": {},
   "outputs": [],
   "source": [
    "import os\n",
    "import pandas as pd\n",
    "import datasets\n",
    "\n",
    "from tqdm.auto import tqdm\n",
    "from konoise import NoiseGenerator"
   ]
  },
  {
   "cell_type": "code",
   "execution_count": 5,
   "id": "2c14ee2e",
   "metadata": {},
   "outputs": [],
   "source": [
    "train_filename = 'Kor-Learner/korean_learner_train.txt'\n",
    "valid_filename = 'Kor-Learner/korean_learner_valid.txt'\n",
    "test_filename = 'Kor-Learner/korean_learner_test.txt'"
   ]
  },
  {
   "cell_type": "code",
   "execution_count": 12,
   "id": "ff7cedbc",
   "metadata": {},
   "outputs": [
    {
     "data": {
      "application/vnd.jupyter.widget-view+json": {
       "model_id": "4bfe65cf036a40278313eb4c7f690ee1",
       "version_major": 2,
       "version_minor": 0
      },
      "text/plain": [
       "  0%|          | 0/4265 [00:00<?, ?it/s]"
      ]
     },
     "metadata": {},
     "output_type": "display_data"
    }
   ],
   "source": [
    "sentences = []\n",
    "sentences_noisy = []\n",
    "filename = test_filename\n",
    "with open(filename, 'r', encoding='utf-8') as f:\n",
    "    lines = f.readlines()\n",
    "    for sentence in tqdm(lines):\n",
    "        sentence_noisy, sentence = sentence.split('\\t')\n",
    "        sentence, sentence_noisy = sentence.strip(), sentence_noisy.strip()\n",
    "        if len(sentence) == len(sentence_noisy) and sentence!= sentence_noisy:\n",
    "            sentences.append(sentence)\n",
    "            sentences_noisy.append(sentence_noisy)\n"
   ]
  },
  {
   "cell_type": "code",
   "execution_count": 13,
   "id": "287bc5c3",
   "metadata": {},
   "outputs": [],
   "source": [
    "df = pd.DataFrame({\n",
    "    'sentence': sentences,\n",
    "    'sentence_noisy': sentences_noisy\n",
    "})  "
   ]
  },
  {
   "cell_type": "code",
   "execution_count": 16,
   "id": "6b46bb71",
   "metadata": {},
   "outputs": [],
   "source": [
    "test_ds = datasets.Dataset.from_pandas(df)"
   ]
  },
  {
   "cell_type": "code",
   "execution_count": null,
   "id": "b2a9f35e",
   "metadata": {},
   "outputs": [],
   "source": [
    "ds = datasets.DatasetDict({\n",
    "    'test': test_ds\n",
    "})"
   ]
  },
  {
   "cell_type": "code",
   "execution_count": 18,
   "id": "311a5004",
   "metadata": {},
   "outputs": [
    {
     "data": {
      "text/plain": [
       "{'sentence': '본 이유로 TV에서 방영하는 영화의 방송 심의에 찬성한다는 입장이다.',\n",
       " 'sentence_noisy': '본 이유로 TV에서 방영하는 영화의 방송 심의와 찬성한다는 입장이다.'}"
      ]
     },
     "execution_count": 18,
     "metadata": {},
     "output_type": "execute_result"
    }
   ],
   "source": [
    "ds['test'][0]"
   ]
  },
  {
   "cell_type": "code",
   "execution_count": null,
   "id": "1e6d9f73",
   "metadata": {},
   "outputs": [
    {
     "data": {
      "application/vnd.jupyter.widget-view+json": {
       "model_id": "f106c119b1ab4695a10bd5a9f6836d38",
       "version_major": 2,
       "version_minor": 0
      },
      "text/plain": [
       "Uploading the dataset shards:   0%|          | 0/1 [00:00<?, ?it/s]"
      ]
     },
     "metadata": {},
     "output_type": "display_data"
    },
    {
     "data": {
      "application/vnd.jupyter.widget-view+json": {
       "model_id": "dd05487145084daf9985d67e727104b9",
       "version_major": 2,
       "version_minor": 0
      },
      "text/plain": [
       "Creating parquet from Arrow format:   0%|          | 0/2 [00:00<?, ?ba/s]"
      ]
     },
     "metadata": {},
     "output_type": "display_data"
    },
    {
     "data": {
      "application/vnd.jupyter.widget-view+json": {
       "model_id": "93a4eaf60f404ea6baf987d3071c2b04",
       "version_major": 2,
       "version_minor": 0
      },
      "text/plain": [
       "README.md:   0%|          | 0.00/315 [00:00<?, ?B/s]"
      ]
     },
     "metadata": {},
     "output_type": "display_data"
    },
    {
     "name": "stderr",
     "output_type": "stream",
     "text": [
      "c:\\Users\\jinwo\\.virtualenvs\\KROP-L3im0CPD\\Lib\\site-packages\\huggingface_hub\\file_download.py:143: UserWarning: `huggingface_hub` cache-system uses symlinks by default to efficiently store duplicated files but your machine does not support them in C:\\Users\\jinwo\\.cache\\huggingface\\hub\\datasets--jwengr--Kor-Learner. Caching files will still work but in a degraded version that might require more space on your disk. This warning can be disabled by setting the `HF_HUB_DISABLE_SYMLINKS_WARNING` environment variable. For more details, see https://huggingface.co/docs/huggingface_hub/how-to-cache#limitations.\n",
      "To support symlinks on Windows, you either need to activate Developer Mode or to run Python as an administrator. In order to activate developer mode, see this article: https://docs.microsoft.com/en-us/windows/apps/get-started/enable-your-device-for-development\n",
      "  warnings.warn(message)\n",
      "No files have been modified since last commit. Skipping to prevent empty commit.\n"
     ]
    },
    {
     "data": {
      "text/plain": [
       "CommitInfo(commit_url='https://huggingface.co/datasets/jwengr/Kor-Learner/commit/e7f295a190bf9397454cb7660d636ddddd0e7115', commit_message='Upload dataset', commit_description='', oid='e7f295a190bf9397454cb7660d636ddddd0e7115', pr_url=None, repo_url=RepoUrl('https://huggingface.co/datasets/jwengr/Kor-Learner', endpoint='https://huggingface.co', repo_type='dataset', repo_id='jwengr/Kor-Learner'), pr_revision=None, pr_num=None)"
      ]
     },
     "execution_count": 20,
     "metadata": {},
     "output_type": "execute_result"
    }
   ],
   "source": [
    "ds.push_to_hub(repo_id=f'jwengr/Kor-Learner', private=True)"
   ]
  },
  {
   "cell_type": "code",
   "execution_count": null,
   "id": "acf7c40d",
   "metadata": {},
   "outputs": [],
   "source": []
  }
 ],
 "metadata": {
  "kernelspec": {
   "display_name": "KROP-L3im0CPD",
   "language": "python",
   "name": "python3"
  },
  "language_info": {
   "codemirror_mode": {
    "name": "ipython",
    "version": 3
   },
   "file_extension": ".py",
   "mimetype": "text/x-python",
   "name": "python",
   "nbconvert_exporter": "python",
   "pygments_lexer": "ipython3",
   "version": "3.12.7"
  }
 },
 "nbformat": 4,
 "nbformat_minor": 5
}
