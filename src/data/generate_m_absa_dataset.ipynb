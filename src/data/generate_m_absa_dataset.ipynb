{
 "cells": [
  {
   "cell_type": "code",
   "execution_count": 1,
   "id": "cb3d796e",
   "metadata": {},
   "outputs": [
    {
     "data": {
      "text/plain": [
       "True"
      ]
     },
     "execution_count": 1,
     "metadata": {},
     "output_type": "execute_result"
    }
   ],
   "source": [
    "from dotenv import load_dotenv\n",
    "load_dotenv()"
   ]
  },
  {
   "cell_type": "code",
   "execution_count": 20,
   "id": "48a0e930",
   "metadata": {},
   "outputs": [
    {
     "name": "stderr",
     "output_type": "stream",
     "text": [
      "Cloning into 'M-ABSA'...\n"
     ]
    }
   ],
   "source": [
    "!git clone git@github.com:swaggy66/M-ABSA.git"
   ]
  },
  {
   "cell_type": "code",
   "execution_count": 2,
   "id": "bdbaafc2",
   "metadata": {},
   "outputs": [],
   "source": [
    "import os\n",
    "import pandas as pd\n",
    "import datasets\n",
    "\n",
    "from glob import glob\n",
    "from tqdm.auto import tqdm\n",
    "from konoise import NoiseGenerator"
   ]
  },
  {
   "cell_type": "code",
   "execution_count": 3,
   "id": "8f8caab4",
   "metadata": {},
   "outputs": [
    {
     "data": {
      "application/vnd.jupyter.widget-view+json": {
       "model_id": "efc7161adf334153b9f590931f2c75d7",
       "version_major": 2,
       "version_minor": 0
      },
      "text/plain": [
       "  0%|          | 0/21 [00:00<?, ?it/s]"
      ]
     },
     "metadata": {},
     "output_type": "display_data"
    },
    {
     "data": {
      "application/vnd.jupyter.widget-view+json": {
       "model_id": "78cf65eb2fad4831937cb619de04c225",
       "version_major": 2,
       "version_minor": 0
      },
      "text/plain": [
       "  0%|          | 0/336 [00:00<?, ?it/s]"
      ]
     },
     "metadata": {},
     "output_type": "display_data"
    },
    {
     "data": {
      "application/vnd.jupyter.widget-view+json": {
       "model_id": "72ba6ca9b23c46468dcd041ae5e3ddf0",
       "version_major": 2,
       "version_minor": 0
      },
      "text/plain": [
       "  0%|          | 0/566 [00:00<?, ?it/s]"
      ]
     },
     "metadata": {},
     "output_type": "display_data"
    },
    {
     "data": {
      "application/vnd.jupyter.widget-view+json": {
       "model_id": "ab4b0559f442467e895ffea6ef4bf9a4",
       "version_major": 2,
       "version_minor": 0
      },
      "text/plain": [
       "  0%|          | 0/1278 [00:00<?, ?it/s]"
      ]
     },
     "metadata": {},
     "output_type": "display_data"
    },
    {
     "data": {
      "application/vnd.jupyter.widget-view+json": {
       "model_id": "5a58ba03b1c647f0973d1bc87dd4c03f",
       "version_major": 2,
       "version_minor": 0
      },
      "text/plain": [
       "  0%|          | 0/312 [00:00<?, ?it/s]"
      ]
     },
     "metadata": {},
     "output_type": "display_data"
    },
    {
     "data": {
      "application/vnd.jupyter.widget-view+json": {
       "model_id": "eba91a694ae44322b52ce5283584ebff",
       "version_major": 2,
       "version_minor": 0
      },
      "text/plain": [
       "  0%|          | 0/522 [00:00<?, ?it/s]"
      ]
     },
     "metadata": {},
     "output_type": "display_data"
    },
    {
     "data": {
      "application/vnd.jupyter.widget-view+json": {
       "model_id": "6aedd6a6745747dda78c9e937581184f",
       "version_major": 2,
       "version_minor": 0
      },
      "text/plain": [
       "  0%|          | 0/1278 [00:00<?, ?it/s]"
      ]
     },
     "metadata": {},
     "output_type": "display_data"
    },
    {
     "data": {
      "application/vnd.jupyter.widget-view+json": {
       "model_id": "f93df3ceefe04b0194fe0e1b69451587",
       "version_major": 2,
       "version_minor": 0
      },
      "text/plain": [
       "  0%|          | 0/308 [00:00<?, ?it/s]"
      ]
     },
     "metadata": {},
     "output_type": "display_data"
    },
    {
     "data": {
      "application/vnd.jupyter.widget-view+json": {
       "model_id": "77a3d92aba8b405ba9c1d94ddd66794d",
       "version_major": 2,
       "version_minor": 0
      },
      "text/plain": [
       "  0%|          | 0/584 [00:00<?, ?it/s]"
      ]
     },
     "metadata": {},
     "output_type": "display_data"
    },
    {
     "data": {
      "application/vnd.jupyter.widget-view+json": {
       "model_id": "8a2e4b4e5fde467bb18d1f3045e7e86e",
       "version_major": 2,
       "version_minor": 0
      },
      "text/plain": [
       "  0%|          | 0/1255 [00:00<?, ?it/s]"
      ]
     },
     "metadata": {},
     "output_type": "display_data"
    },
    {
     "data": {
      "application/vnd.jupyter.widget-view+json": {
       "model_id": "59fc55090dff498e958121aa7ecc6dd1",
       "version_major": 2,
       "version_minor": 0
      },
      "text/plain": [
       "  0%|          | 0/326 [00:00<?, ?it/s]"
      ]
     },
     "metadata": {},
     "output_type": "display_data"
    },
    {
     "data": {
      "application/vnd.jupyter.widget-view+json": {
       "model_id": "025d71504ebf4a698965d1b6abf6a14b",
       "version_major": 2,
       "version_minor": 0
      },
      "text/plain": [
       "  0%|          | 0/532 [00:00<?, ?it/s]"
      ]
     },
     "metadata": {},
     "output_type": "display_data"
    },
    {
     "data": {
      "application/vnd.jupyter.widget-view+json": {
       "model_id": "43af7e0d2d17465fb8b0fdf62d078a1b",
       "version_major": 2,
       "version_minor": 0
      },
      "text/plain": [
       "  0%|          | 0/1264 [00:00<?, ?it/s]"
      ]
     },
     "metadata": {},
     "output_type": "display_data"
    },
    {
     "data": {
      "application/vnd.jupyter.widget-view+json": {
       "model_id": "8215b8f9d98d4fd787f8f608e933b2c9",
       "version_major": 2,
       "version_minor": 0
      },
      "text/plain": [
       "  0%|          | 0/307 [00:00<?, ?it/s]"
      ]
     },
     "metadata": {},
     "output_type": "display_data"
    },
    {
     "data": {
      "application/vnd.jupyter.widget-view+json": {
       "model_id": "f7ddd243dead4058a1f80dff13d29a49",
       "version_major": 2,
       "version_minor": 0
      },
      "text/plain": [
       "  0%|          | 0/522 [00:00<?, ?it/s]"
      ]
     },
     "metadata": {},
     "output_type": "display_data"
    },
    {
     "data": {
      "application/vnd.jupyter.widget-view+json": {
       "model_id": "e8340acc1b9b432ca8a60c25fb767cb6",
       "version_major": 2,
       "version_minor": 0
      },
      "text/plain": [
       "  0%|          | 0/1276 [00:00<?, ?it/s]"
      ]
     },
     "metadata": {},
     "output_type": "display_data"
    },
    {
     "data": {
      "application/vnd.jupyter.widget-view+json": {
       "model_id": "971b469954eb464ebe4b775857f0b180",
       "version_major": 2,
       "version_minor": 0
      },
      "text/plain": [
       "  0%|          | 0/316 [00:00<?, ?it/s]"
      ]
     },
     "metadata": {},
     "output_type": "display_data"
    },
    {
     "data": {
      "application/vnd.jupyter.widget-view+json": {
       "model_id": "a2512d29500a4074bcdbe02698142e79",
       "version_major": 2,
       "version_minor": 0
      },
      "text/plain": [
       "  0%|          | 0/544 [00:00<?, ?it/s]"
      ]
     },
     "metadata": {},
     "output_type": "display_data"
    },
    {
     "data": {
      "application/vnd.jupyter.widget-view+json": {
       "model_id": "828bf948d805462c8c04548e0c13245a",
       "version_major": 2,
       "version_minor": 0
      },
      "text/plain": [
       "  0%|          | 0/1264 [00:00<?, ?it/s]"
      ]
     },
     "metadata": {},
     "output_type": "display_data"
    },
    {
     "data": {
      "application/vnd.jupyter.widget-view+json": {
       "model_id": "67ede0869aa44f15b1809b06fcbd76d6",
       "version_major": 2,
       "version_minor": 0
      },
      "text/plain": [
       "  0%|          | 0/281 [00:00<?, ?it/s]"
      ]
     },
     "metadata": {},
     "output_type": "display_data"
    },
    {
     "data": {
      "application/vnd.jupyter.widget-view+json": {
       "model_id": "83d166f926b34cecba653198126e8583",
       "version_major": 2,
       "version_minor": 0
      },
      "text/plain": [
       "  0%|          | 0/524 [00:00<?, ?it/s]"
      ]
     },
     "metadata": {},
     "output_type": "display_data"
    },
    {
     "data": {
      "application/vnd.jupyter.widget-view+json": {
       "model_id": "d9e2761c601a46a4a840d93933c1c08e",
       "version_major": 2,
       "version_minor": 0
      },
      "text/plain": [
       "  0%|          | 0/1181 [00:00<?, ?it/s]"
      ]
     },
     "metadata": {},
     "output_type": "display_data"
    }
   ],
   "source": [
    "genertor = NoiseGenerator()\n",
    "noise_methods = ['change-vowels', 'palatalization', 'linking', 'liquidization', 'nasalization', 'assimilation']\n",
    "categories = []\n",
    "splits = []\n",
    "sentences = []\n",
    "sentences_noisy = []\n",
    "noise_method_selected = []\n",
    "for path in tqdm(glob('M-ABSA/data/*/ko/*.txt')):\n",
    "    # 경로를 os.path.normpath로 정리하고, 폴더 이름 분리\n",
    "    parts = os.path.normpath(path).split(os.sep)\n",
    "    category = parts[2]  # 3번째 폴더\n",
    "    split = os.path.splitext(parts[-1])[0]  # 파일명 (확장자 제외)\n",
    "    with open(path, 'r', encoding='utf-8') as f:\n",
    "        lines = f.readlines()\n",
    "        for sentence in tqdm(lines):\n",
    "            sentence = sentence.strip()\n",
    "            sentence = sentence.split('####')[0]\n",
    "            for noise_method in noise_methods:\n",
    "                sentence_noisy = genertor.generate(sentence, noise_method, 1)[0][0]\n",
    "                if sentence == sentence_noisy:\n",
    "                    continue\n",
    "                categories.append(category)\n",
    "                splits.append(split)\n",
    "                sentences.append(sentence)   \n",
    "                sentences_noisy.append(sentence_noisy)\n",
    "                noise_method_selected.append(noise_method)\n",
    "            \n",
    "            sentence_noisy_all = sentence\n",
    "            for noise_method in noise_methods:\n",
    "                sentence_noisy_all = genertor.generate(sentence_noisy_all, noise_method, 1)[0][0]\n",
    "            if sentence == sentence_noisy_all:\n",
    "                continue\n",
    "            categories.append(category)\n",
    "            splits.append(split)\n",
    "            sentences.append(sentence)   \n",
    "            sentences_noisy.append(sentence_noisy_all)\n",
    "            noise_method_selected.append('all')"
   ]
  },
  {
   "cell_type": "code",
   "execution_count": 4,
   "id": "20b81f47",
   "metadata": {},
   "outputs": [],
   "source": [
    "df = pd.DataFrame({\n",
    "    'category': categories,\n",
    "    'split': splits,\n",
    "    'sentence': sentences,\n",
    "    'sentence_noisy': sentences_noisy,\n",
    "    'noise_method': noise_method_selected\n",
    "})"
   ]
  },
  {
   "cell_type": "code",
   "execution_count": 5,
   "id": "44f0e8ad",
   "metadata": {},
   "outputs": [],
   "source": [
    "train_df = df[df['split'] == 'test'].drop(columns=['split']).reset_index(drop=True)\n",
    "groupby = train_df.groupby(['sentence'])[['noise_method']].count().reset_index()\n",
    "not_all_sentences = groupby[groupby['noise_method']==2]['sentence'].tolist()\n",
    "cond1 = train_df['noise_method']=='all'\n",
    "cond2 = train_df['sentence'].isin(not_all_sentences)\n",
    "train_df = train_df[(cond1 & cond2)==False].reset_index(drop=True)"
   ]
  },
  {
   "cell_type": "code",
   "execution_count": 6,
   "id": "9a102ed8",
   "metadata": {},
   "outputs": [],
   "source": [
    "dev_df = df[df['split'] == 'test'].drop(columns=['split']).reset_index(drop=True)\n",
    "groupby = dev_df.groupby(['sentence'])[['noise_method']].count().reset_index()\n",
    "not_all_sentences = groupby[groupby['noise_method']==2]['sentence'].tolist()\n",
    "cond1 = dev_df['noise_method']=='all'\n",
    "cond2 = dev_df['sentence'].isin(not_all_sentences)\n",
    "dev_df = dev_df[(cond1 & cond2)==False].reset_index(drop=True)"
   ]
  },
  {
   "cell_type": "code",
   "execution_count": 7,
   "id": "0bcd0848",
   "metadata": {},
   "outputs": [],
   "source": [
    "test_df = df[df['split'] == 'test'].drop(columns=['split']).reset_index(drop=True)\n",
    "groupby = test_df.groupby(['sentence'])[['noise_method']].count().reset_index()\n",
    "not_all_sentences = groupby[groupby['noise_method']==2]['sentence'].tolist()\n",
    "cond1 = test_df['noise_method']=='all'\n",
    "cond2 = test_df['sentence'].isin(not_all_sentences)\n",
    "test_df = test_df[(cond1 & cond2)==False].reset_index(drop=True)"
   ]
  },
  {
   "cell_type": "code",
   "execution_count": 8,
   "id": "77e31bb8",
   "metadata": {},
   "outputs": [],
   "source": [
    "train_ds = datasets.Dataset.from_pandas(test_df)\n",
    "dev_ds = datasets.Dataset.from_pandas(dev_df)\n",
    "test_ds = datasets.Dataset.from_pandas(test_df)"
   ]
  },
  {
   "cell_type": "code",
   "execution_count": 9,
   "id": "4940b452",
   "metadata": {},
   "outputs": [],
   "source": [
    "ds = datasets.DatasetDict({\n",
    "    'train':train_ds,\n",
    "    'dev': dev_ds,\n",
    "    'test': test_ds\n",
    "})"
   ]
  },
  {
   "cell_type": "code",
   "execution_count": 13,
   "id": "37c28171",
   "metadata": {},
   "outputs": [
    {
     "data": {
      "application/vnd.jupyter.widget-view+json": {
       "model_id": "ebec88797ae243b0a37000c0c3d81ce5",
       "version_major": 2,
       "version_minor": 0
      },
      "text/plain": [
       "Uploading the dataset shards:   0%|          | 0/1 [00:00<?, ?it/s]"
      ]
     },
     "metadata": {},
     "output_type": "display_data"
    },
    {
     "data": {
      "application/vnd.jupyter.widget-view+json": {
       "model_id": "a9659c8eea8d4df59758477cf77913fc",
       "version_major": 2,
       "version_minor": 0
      },
      "text/plain": [
       "Creating parquet from Arrow format:   0%|          | 0/8 [00:00<?, ?ba/s]"
      ]
     },
     "metadata": {},
     "output_type": "display_data"
    },
    {
     "data": {
      "application/vnd.jupyter.widget-view+json": {
       "model_id": "42ec3fecf9fe4bfbace0f02e4addb64c",
       "version_major": 2,
       "version_minor": 0
      },
      "text/plain": [
       "Uploading the dataset shards:   0%|          | 0/1 [00:00<?, ?it/s]"
      ]
     },
     "metadata": {},
     "output_type": "display_data"
    },
    {
     "data": {
      "application/vnd.jupyter.widget-view+json": {
       "model_id": "b343fae19b5a47e3b04c497a243ec15e",
       "version_major": 2,
       "version_minor": 0
      },
      "text/plain": [
       "Creating parquet from Arrow format:   0%|          | 0/8 [00:00<?, ?ba/s]"
      ]
     },
     "metadata": {},
     "output_type": "display_data"
    },
    {
     "data": {
      "application/vnd.jupyter.widget-view+json": {
       "model_id": "c7dc3c8d479640229a60977b6846613d",
       "version_major": 2,
       "version_minor": 0
      },
      "text/plain": [
       "Uploading the dataset shards:   0%|          | 0/1 [00:00<?, ?it/s]"
      ]
     },
     "metadata": {},
     "output_type": "display_data"
    },
    {
     "data": {
      "application/vnd.jupyter.widget-view+json": {
       "model_id": "0f5f99853cee43ee8baafdb3bab13a50",
       "version_major": 2,
       "version_minor": 0
      },
      "text/plain": [
       "Creating parquet from Arrow format:   0%|          | 0/8 [00:00<?, ?ba/s]"
      ]
     },
     "metadata": {},
     "output_type": "display_data"
    },
    {
     "data": {
      "application/vnd.jupyter.widget-view+json": {
       "model_id": "edff823071db4ced8ed4e0615669fab4",
       "version_major": 2,
       "version_minor": 0
      },
      "text/plain": [
       "README.md:   0%|          | 0.00/491 [00:00<?, ?B/s]"
      ]
     },
     "metadata": {},
     "output_type": "display_data"
    },
    {
     "name": "stderr",
     "output_type": "stream",
     "text": [
      "c:\\Users\\jinwo\\.virtualenvs\\KROP-L3im0CPD\\Lib\\site-packages\\huggingface_hub\\file_download.py:143: UserWarning: `huggingface_hub` cache-system uses symlinks by default to efficiently store duplicated files but your machine does not support them in C:\\Users\\jinwo\\.cache\\huggingface\\hub\\datasets--jwengr--M-ABSA-ko-noise. Caching files will still work but in a degraded version that might require more space on your disk. This warning can be disabled by setting the `HF_HUB_DISABLE_SYMLINKS_WARNING` environment variable. For more details, see https://huggingface.co/docs/huggingface_hub/how-to-cache#limitations.\n",
      "To support symlinks on Windows, you either need to activate Developer Mode or to run Python as an administrator. In order to activate developer mode, see this article: https://docs.microsoft.com/en-us/windows/apps/get-started/enable-your-device-for-development\n",
      "  warnings.warn(message)\n"
     ]
    },
    {
     "data": {
      "text/plain": [
       "CommitInfo(commit_url='https://huggingface.co/datasets/jwengr/M-ABSA-ko-noise/commit/5dd0f8282c2092517ee6864bd40c5a5ab2563cb5', commit_message='Upload dataset', commit_description='', oid='5dd0f8282c2092517ee6864bd40c5a5ab2563cb5', pr_url=None, repo_url=RepoUrl('https://huggingface.co/datasets/jwengr/M-ABSA-ko-noise', endpoint='https://huggingface.co', repo_type='dataset', repo_id='jwengr/M-ABSA-ko-noise'), pr_revision=None, pr_num=None)"
      ]
     },
     "execution_count": 13,
     "metadata": {},
     "output_type": "execute_result"
    }
   ],
   "source": [
    "ds.push_to_hub(repo_id=f'jwengr/M-ABSA-ko-noise')"
   ]
  },
  {
   "cell_type": "code",
   "execution_count": null,
   "id": "2ebc94d5",
   "metadata": {},
   "outputs": [],
   "source": []
  }
 ],
 "metadata": {
  "kernelspec": {
   "display_name": "KROP-L3im0CPD",
   "language": "python",
   "name": "python3"
  },
  "language_info": {
   "codemirror_mode": {
    "name": "ipython",
    "version": 3
   },
   "file_extension": ".py",
   "mimetype": "text/x-python",
   "name": "python",
   "nbconvert_exporter": "python",
   "pygments_lexer": "ipython3",
   "version": "3.12.7"
  }
 },
 "nbformat": 4,
 "nbformat_minor": 5
}
