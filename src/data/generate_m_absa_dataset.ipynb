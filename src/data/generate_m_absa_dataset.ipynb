{
 "cells": [
  {
   "cell_type": "code",
   "execution_count": 1,
   "id": "cb3d796e",
   "metadata": {},
   "outputs": [
    {
     "data": {
      "text/plain": [
       "True"
      ]
     },
     "execution_count": 1,
     "metadata": {},
     "output_type": "execute_result"
    }
   ],
   "source": [
    "from dotenv import load_dotenv\n",
    "load_dotenv()"
   ]
  },
  {
   "cell_type": "code",
   "execution_count": 20,
   "id": "48a0e930",
   "metadata": {},
   "outputs": [
    {
     "name": "stderr",
     "output_type": "stream",
     "text": [
      "Cloning into 'M-ABSA'...\n"
     ]
    }
   ],
   "source": [
    "!git clone git@github.com:swaggy66/M-ABSA.git"
   ]
  },
  {
   "cell_type": "code",
   "execution_count": 2,
   "id": "bdbaafc2",
   "metadata": {},
   "outputs": [],
   "source": [
    "import os\n",
    "import pandas as pd\n",
    "import datasets\n",
    "\n",
    "from glob import glob\n",
    "from tqdm.auto import tqdm\n",
    "from konoise import NoiseGenerator"
   ]
  },
  {
   "cell_type": "code",
   "execution_count": 3,
   "id": "8f8caab4",
   "metadata": {},
   "outputs": [
    {
     "data": {
      "application/vnd.jupyter.widget-view+json": {
       "model_id": "eba954a59805468685399f19220c1d84",
       "version_major": 2,
       "version_minor": 0
      },
      "text/plain": [
       "  0%|          | 0/21 [00:00<?, ?it/s]"
      ]
     },
     "metadata": {},
     "output_type": "display_data"
    },
    {
     "data": {
      "application/vnd.jupyter.widget-view+json": {
       "model_id": "c9c274c1caaf4d02b37be59428baaf9b",
       "version_major": 2,
       "version_minor": 0
      },
      "text/plain": [
       "  0%|          | 0/336 [00:00<?, ?it/s]"
      ]
     },
     "metadata": {},
     "output_type": "display_data"
    },
    {
     "data": {
      "application/vnd.jupyter.widget-view+json": {
       "model_id": "8b17a42e1ab148739b0b83d34d7315e0",
       "version_major": 2,
       "version_minor": 0
      },
      "text/plain": [
       "  0%|          | 0/566 [00:00<?, ?it/s]"
      ]
     },
     "metadata": {},
     "output_type": "display_data"
    },
    {
     "data": {
      "application/vnd.jupyter.widget-view+json": {
       "model_id": "71ac9196ea254d748776da44ed202a37",
       "version_major": 2,
       "version_minor": 0
      },
      "text/plain": [
       "  0%|          | 0/1278 [00:00<?, ?it/s]"
      ]
     },
     "metadata": {},
     "output_type": "display_data"
    },
    {
     "data": {
      "application/vnd.jupyter.widget-view+json": {
       "model_id": "5b9f7f0bba3f4615b25e624df26f783b",
       "version_major": 2,
       "version_minor": 0
      },
      "text/plain": [
       "  0%|          | 0/312 [00:00<?, ?it/s]"
      ]
     },
     "metadata": {},
     "output_type": "display_data"
    },
    {
     "data": {
      "application/vnd.jupyter.widget-view+json": {
       "model_id": "39e44935e1b74a8d978ce5aa4ef9aabd",
       "version_major": 2,
       "version_minor": 0
      },
      "text/plain": [
       "  0%|          | 0/522 [00:00<?, ?it/s]"
      ]
     },
     "metadata": {},
     "output_type": "display_data"
    },
    {
     "data": {
      "application/vnd.jupyter.widget-view+json": {
       "model_id": "da4b142c5a974975b889b3f8c6d4388b",
       "version_major": 2,
       "version_minor": 0
      },
      "text/plain": [
       "  0%|          | 0/1278 [00:00<?, ?it/s]"
      ]
     },
     "metadata": {},
     "output_type": "display_data"
    },
    {
     "data": {
      "application/vnd.jupyter.widget-view+json": {
       "model_id": "3a0100adca4045138c0be56a94a0bb06",
       "version_major": 2,
       "version_minor": 0
      },
      "text/plain": [
       "  0%|          | 0/308 [00:00<?, ?it/s]"
      ]
     },
     "metadata": {},
     "output_type": "display_data"
    },
    {
     "data": {
      "application/vnd.jupyter.widget-view+json": {
       "model_id": "c97944d4102042c1a51a770ec26d2fae",
       "version_major": 2,
       "version_minor": 0
      },
      "text/plain": [
       "  0%|          | 0/584 [00:00<?, ?it/s]"
      ]
     },
     "metadata": {},
     "output_type": "display_data"
    },
    {
     "data": {
      "application/vnd.jupyter.widget-view+json": {
       "model_id": "bd05c6f8181b435b9aa09f8119fa07d7",
       "version_major": 2,
       "version_minor": 0
      },
      "text/plain": [
       "  0%|          | 0/1255 [00:00<?, ?it/s]"
      ]
     },
     "metadata": {},
     "output_type": "display_data"
    },
    {
     "data": {
      "application/vnd.jupyter.widget-view+json": {
       "model_id": "ea1a3746f4b2462e9e70cdac2e54b4c1",
       "version_major": 2,
       "version_minor": 0
      },
      "text/plain": [
       "  0%|          | 0/326 [00:00<?, ?it/s]"
      ]
     },
     "metadata": {},
     "output_type": "display_data"
    },
    {
     "data": {
      "application/vnd.jupyter.widget-view+json": {
       "model_id": "202e77310b0b47ac8a637a64da7b1b14",
       "version_major": 2,
       "version_minor": 0
      },
      "text/plain": [
       "  0%|          | 0/532 [00:00<?, ?it/s]"
      ]
     },
     "metadata": {},
     "output_type": "display_data"
    },
    {
     "data": {
      "application/vnd.jupyter.widget-view+json": {
       "model_id": "600c0b1136a54b599010c51cac95df02",
       "version_major": 2,
       "version_minor": 0
      },
      "text/plain": [
       "  0%|          | 0/1264 [00:00<?, ?it/s]"
      ]
     },
     "metadata": {},
     "output_type": "display_data"
    },
    {
     "data": {
      "application/vnd.jupyter.widget-view+json": {
       "model_id": "6527a2bfb99e4474831b7cb83fdf7794",
       "version_major": 2,
       "version_minor": 0
      },
      "text/plain": [
       "  0%|          | 0/307 [00:00<?, ?it/s]"
      ]
     },
     "metadata": {},
     "output_type": "display_data"
    },
    {
     "data": {
      "application/vnd.jupyter.widget-view+json": {
       "model_id": "bbc1903dfc50469c87357e4cb82f431a",
       "version_major": 2,
       "version_minor": 0
      },
      "text/plain": [
       "  0%|          | 0/522 [00:00<?, ?it/s]"
      ]
     },
     "metadata": {},
     "output_type": "display_data"
    },
    {
     "data": {
      "application/vnd.jupyter.widget-view+json": {
       "model_id": "80fd85d6d098474a97401c12d06eed9f",
       "version_major": 2,
       "version_minor": 0
      },
      "text/plain": [
       "  0%|          | 0/1276 [00:00<?, ?it/s]"
      ]
     },
     "metadata": {},
     "output_type": "display_data"
    },
    {
     "data": {
      "application/vnd.jupyter.widget-view+json": {
       "model_id": "ad3f6ec06252481eb4d5c06a2d5b18bf",
       "version_major": 2,
       "version_minor": 0
      },
      "text/plain": [
       "  0%|          | 0/316 [00:00<?, ?it/s]"
      ]
     },
     "metadata": {},
     "output_type": "display_data"
    },
    {
     "data": {
      "application/vnd.jupyter.widget-view+json": {
       "model_id": "4df0e59b67864710b77f5e371dfa6b55",
       "version_major": 2,
       "version_minor": 0
      },
      "text/plain": [
       "  0%|          | 0/544 [00:00<?, ?it/s]"
      ]
     },
     "metadata": {},
     "output_type": "display_data"
    },
    {
     "data": {
      "application/vnd.jupyter.widget-view+json": {
       "model_id": "64057edde0a649bc963e649b623e2528",
       "version_major": 2,
       "version_minor": 0
      },
      "text/plain": [
       "  0%|          | 0/1264 [00:00<?, ?it/s]"
      ]
     },
     "metadata": {},
     "output_type": "display_data"
    },
    {
     "data": {
      "application/vnd.jupyter.widget-view+json": {
       "model_id": "884769d2fc3848a4b15f3b8493cae866",
       "version_major": 2,
       "version_minor": 0
      },
      "text/plain": [
       "  0%|          | 0/281 [00:00<?, ?it/s]"
      ]
     },
     "metadata": {},
     "output_type": "display_data"
    },
    {
     "data": {
      "application/vnd.jupyter.widget-view+json": {
       "model_id": "e940e0f21bb44230ac09b9126f587b88",
       "version_major": 2,
       "version_minor": 0
      },
      "text/plain": [
       "  0%|          | 0/524 [00:00<?, ?it/s]"
      ]
     },
     "metadata": {},
     "output_type": "display_data"
    },
    {
     "data": {
      "application/vnd.jupyter.widget-view+json": {
       "model_id": "4a7b78bf32a844a8988e181df6b2ee30",
       "version_major": 2,
       "version_minor": 0
      },
      "text/plain": [
       "  0%|          | 0/1181 [00:00<?, ?it/s]"
      ]
     },
     "metadata": {},
     "output_type": "display_data"
    }
   ],
   "source": [
    "genertor = NoiseGenerator()\n",
    "noise_methods = ['change-vowels', 'palatalization', 'linking', 'liquidization', 'nasalization', 'assimilation']\n",
    "categories = []\n",
    "splits = []\n",
    "sentences = []\n",
    "sentences_noisy = []\n",
    "noise_method_selected = []\n",
    "for path in tqdm(glob('M-ABSA/data/*/ko/*.txt')):\n",
    "    # 경로를 os.path.normpath로 정리하고, 폴더 이름 분리\n",
    "    parts = os.path.normpath(path).split(os.sep)\n",
    "    category = parts[2]  # 3번째 폴더\n",
    "    split = os.path.splitext(parts[-1])[0]  # 파일명 (확장자 제외)\n",
    "    with open(path, 'r', encoding='utf-8') as f:\n",
    "        lines = f.readlines()\n",
    "        for sentence in tqdm(lines):\n",
    "            sentence = sentence.strip()\n",
    "            sentence = sentence.split('####')[0]\n",
    "            if split == 'train':\n",
    "                continue\n",
    "            elif split == 'dev':\n",
    "                sentence_noisy_all = sentence\n",
    "                for noise_method in noise_methods:\n",
    "                    sentence_noisy_all = genertor.generate(sentence_noisy_all, noise_method, 1)[0][0]\n",
    "                if sentence == sentence_noisy_all:\n",
    "                    continue\n",
    "                categories.append(category)\n",
    "                splits.append(split)\n",
    "                sentences.append(sentence)   \n",
    "                sentences_noisy.append(sentence_noisy_all)\n",
    "                noise_method_selected.append('all')\n",
    "            else:\n",
    "                for noise_method in noise_methods:\n",
    "                    sentence_noisy = genertor.generate(sentence, noise_method, 1)[0][0]\n",
    "                    if sentence == sentence_noisy:\n",
    "                        continue\n",
    "                    categories.append(category)\n",
    "                    splits.append(split)\n",
    "                    sentences.append(sentence)   \n",
    "                    sentences_noisy.append(sentence_noisy)\n",
    "                    noise_method_selected.append(noise_method)\n",
    "                \n",
    "                sentence_noisy_all = sentence\n",
    "                for noise_method in noise_methods:\n",
    "                    sentence_noisy_all = genertor.generate(sentence_noisy_all, noise_method, 1)[0][0]\n",
    "                if sentence == sentence_noisy_all:\n",
    "                    continue\n",
    "                categories.append(category)\n",
    "                splits.append(split)\n",
    "                sentences.append(sentence)   \n",
    "                sentences_noisy.append(sentence_noisy_all)\n",
    "                noise_method_selected.append('all')"
   ]
  },
  {
   "cell_type": "code",
   "execution_count": 4,
   "id": "20b81f47",
   "metadata": {},
   "outputs": [],
   "source": [
    "df = pd.DataFrame({\n",
    "    'category': categories,\n",
    "    'split': splits,\n",
    "    'sentence': sentences,\n",
    "    'sentence_noisy': sentences_noisy,\n",
    "    'noise_method': noise_method_selected\n",
    "})"
   ]
  },
  {
   "cell_type": "code",
   "execution_count": 5,
   "id": "9a102ed8",
   "metadata": {},
   "outputs": [],
   "source": [
    "dev_df = df[df['split'] == 'dev'].drop(columns=['split']).reset_index(drop=True)"
   ]
  },
  {
   "cell_type": "code",
   "execution_count": 6,
   "id": "0bcd0848",
   "metadata": {},
   "outputs": [],
   "source": [
    "test_df = df[df['split'] == 'test'].drop(columns=['split']).reset_index(drop=True)\n",
    "groupby = test_df.groupby(['sentence'])[['noise_method']].count().reset_index()\n",
    "not_all_sentences = groupby[groupby['noise_method']==2]['sentence'].tolist()\n",
    "cond1 = test_df['noise_method']=='all'\n",
    "cond2 = test_df['sentence'].isin(not_all_sentences)\n",
    "test_df = test_df[(cond1 & cond2)==False].reset_index(drop=True)"
   ]
  },
  {
   "cell_type": "code",
   "execution_count": 7,
   "id": "77e31bb8",
   "metadata": {},
   "outputs": [],
   "source": [
    "dev_ds = datasets.Dataset.from_pandas(dev_df)\n",
    "test_ds = datasets.Dataset.from_pandas(test_df)"
   ]
  },
  {
   "cell_type": "code",
   "execution_count": 8,
   "id": "4940b452",
   "metadata": {},
   "outputs": [],
   "source": [
    "ds = datasets.DatasetDict({\n",
    "    'dev': dev_ds,\n",
    "    'test': test_ds\n",
    "})"
   ]
  },
  {
   "cell_type": "code",
   "execution_count": 9,
   "id": "37c28171",
   "metadata": {},
   "outputs": [
    {
     "data": {
      "application/vnd.jupyter.widget-view+json": {
       "model_id": "d94f57bac6334bc9b4d61517fc51ca2a",
       "version_major": 2,
       "version_minor": 0
      },
      "text/plain": [
       "Uploading the dataset shards:   0%|          | 0/1 [00:00<?, ?it/s]"
      ]
     },
     "metadata": {},
     "output_type": "display_data"
    },
    {
     "data": {
      "application/vnd.jupyter.widget-view+json": {
       "model_id": "e60309f44ed04bac803fd05786f335c5",
       "version_major": 2,
       "version_minor": 0
      },
      "text/plain": [
       "Creating parquet from Arrow format:   0%|          | 0/3 [00:00<?, ?ba/s]"
      ]
     },
     "metadata": {},
     "output_type": "display_data"
    },
    {
     "data": {
      "application/vnd.jupyter.widget-view+json": {
       "model_id": "bd8325bb02094ac1809ad2c77d5e640c",
       "version_major": 2,
       "version_minor": 0
      },
      "text/plain": [
       "Uploading the dataset shards:   0%|          | 0/1 [00:00<?, ?it/s]"
      ]
     },
     "metadata": {},
     "output_type": "display_data"
    },
    {
     "data": {
      "application/vnd.jupyter.widget-view+json": {
       "model_id": "862915bf9e71406cbaacafd472c809b1",
       "version_major": 2,
       "version_minor": 0
      },
      "text/plain": [
       "Creating parquet from Arrow format:   0%|          | 0/8 [00:00<?, ?ba/s]"
      ]
     },
     "metadata": {},
     "output_type": "display_data"
    },
    {
     "data": {
      "application/vnd.jupyter.widget-view+json": {
       "model_id": "d3343eb67bc848aa9f5549bec53f96da",
       "version_major": 2,
       "version_minor": 0
      },
      "text/plain": [
       "README.md:   0%|          | 0.00/395 [00:00<?, ?B/s]"
      ]
     },
     "metadata": {},
     "output_type": "display_data"
    },
    {
     "name": "stderr",
     "output_type": "stream",
     "text": [
      "c:\\Users\\jinwo\\.virtualenvs\\KROP-L3im0CPD\\Lib\\site-packages\\huggingface_hub\\file_download.py:143: UserWarning: `huggingface_hub` cache-system uses symlinks by default to efficiently store duplicated files but your machine does not support them in C:\\Users\\jinwo\\.cache\\huggingface\\hub\\datasets--jwengr--M-ABSA-ko-noise. Caching files will still work but in a degraded version that might require more space on your disk. This warning can be disabled by setting the `HF_HUB_DISABLE_SYMLINKS_WARNING` environment variable. For more details, see https://huggingface.co/docs/huggingface_hub/how-to-cache#limitations.\n",
      "To support symlinks on Windows, you either need to activate Developer Mode or to run Python as an administrator. In order to activate developer mode, see this article: https://docs.microsoft.com/en-us/windows/apps/get-started/enable-your-device-for-development\n",
      "  warnings.warn(message)\n"
     ]
    },
    {
     "data": {
      "text/plain": [
       "CommitInfo(commit_url='https://huggingface.co/datasets/jwengr/M-ABSA-ko-noise/commit/e7ade541cbc7bb4752f7d7206327e52db2df186c', commit_message='Upload dataset', commit_description='', oid='e7ade541cbc7bb4752f7d7206327e52db2df186c', pr_url=None, repo_url=RepoUrl('https://huggingface.co/datasets/jwengr/M-ABSA-ko-noise', endpoint='https://huggingface.co', repo_type='dataset', repo_id='jwengr/M-ABSA-ko-noise'), pr_revision=None, pr_num=None)"
      ]
     },
     "execution_count": 9,
     "metadata": {},
     "output_type": "execute_result"
    }
   ],
   "source": [
    "ds.push_to_hub(repo_id=f'jwengr/M-ABSA-ko-noise')"
   ]
  },
  {
   "cell_type": "code",
   "execution_count": null,
   "id": "2ebc94d5",
   "metadata": {},
   "outputs": [],
   "source": []
  }
 ],
 "metadata": {
  "kernelspec": {
   "display_name": "KROP-L3im0CPD",
   "language": "python",
   "name": "python3"
  },
  "language_info": {
   "codemirror_mode": {
    "name": "ipython",
    "version": 3
   },
   "file_extension": ".py",
   "mimetype": "text/x-python",
   "name": "python",
   "nbconvert_exporter": "python",
   "pygments_lexer": "ipython3",
   "version": "3.12.7"
  }
 },
 "nbformat": 4,
 "nbformat_minor": 5
}
