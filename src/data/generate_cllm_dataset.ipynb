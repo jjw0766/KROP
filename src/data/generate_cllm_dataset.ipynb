{
 "cells": [
  {
   "cell_type": "code",
   "execution_count": 1,
   "id": "3351f7d6",
   "metadata": {},
   "outputs": [
    {
     "data": {
      "text/plain": [
       "True"
      ]
     },
     "execution_count": 1,
     "metadata": {},
     "output_type": "execute_result"
    }
   ],
   "source": [
    "from dotenv import load_dotenv\n",
    "load_dotenv()"
   ]
  },
  {
   "cell_type": "code",
   "execution_count": 2,
   "id": "9df71df6",
   "metadata": {},
   "outputs": [
    {
     "name": "stderr",
     "output_type": "stream",
     "text": [
      "/home/jjw1214/.conda/envs/jjw1214_py312/lib/python3.12/site-packages/tqdm/auto.py:21: TqdmWarning: IProgress not found. Please update jupyter and ipywidgets. See https://ipywidgets.readthedocs.io/en/stable/user_install.html\n",
      "  from .autonotebook import tqdm as notebook_tqdm\n"
     ]
    }
   ],
   "source": [
    "import os\n",
    "import json\n",
    "import pandas as pd\n",
    "import datasets\n",
    "\n",
    "from tqdm.auto import tqdm\n",
    "from glob import glob"
   ]
  },
  {
   "cell_type": "code",
   "execution_count": 3,
   "id": "b6e029e4",
   "metadata": {},
   "outputs": [],
   "source": [
    "with open(\"C-LLM/train/wang_cscd_train.json\", \"r\", encoding='utf-8') as f:\n",
    "\twang_cscd_train = json.load(f)\n",
    "with open(\"C-LLM/train/cscd_train.json\", \"r\", encoding='utf-8') as f:\n",
    "\tcscd_train = json.load(f)\n",
    "with open(\"C-LLM/train/cscd_dev.json\", \"r\", encoding='utf-8') as f:\n",
    "\tcscd_dev = json.load(f)"
   ]
  },
  {
   "cell_type": "code",
   "execution_count": 7,
   "id": "95944e9a",
   "metadata": {},
   "outputs": [],
   "source": [
    "sentences_noisy = []\n",
    "sentences = []\n",
    "categories = []\n",
    "\n",
    "for row in wang_cscd_train:\n",
    "    sentence_noisy, sentence, category = row['src'], row['tgt'], 'wang_cscd'\n",
    "    if len(sentence)!=len(sentence_noisy):\n",
    "        raise ValueError('sentence length not matched')\n",
    "    sentences_noisy.append(sentence_noisy)\n",
    "    sentences.append(sentence)\n",
    "    categories.append(category)\n",
    "\n",
    "for row in cscd_train:\n",
    "    sentence_noisy, sentence, category = row['src'], row['tgt'], 'cscd'\n",
    "    if len(sentence)!=len(sentence_noisy):\n",
    "        raise ValueError('sentence length not matched')\n",
    "    sentences_noisy.append(sentence_noisy)\n",
    "    sentences.append(sentence)\n",
    "    categories.append(category)"
   ]
  },
  {
   "cell_type": "code",
   "execution_count": 8,
   "id": "bc34d85f",
   "metadata": {},
   "outputs": [],
   "source": [
    "train_df = pd.DataFrame({\n",
    "    'sentence': sentences,\n",
    "    'sentence_noisy': sentences_noisy,\n",
    "    'category': categories\n",
    "})  \n",
    "train_ds = datasets.Dataset.from_pandas(train_df)"
   ]
  },
  {
   "cell_type": "code",
   "execution_count": 9,
   "id": "7add0ec6",
   "metadata": {},
   "outputs": [],
   "source": [
    "sentences_noisy = []\n",
    "sentences = []\n",
    "categories = []\n",
    "\n",
    "for row in cscd_dev:\n",
    "    sentence_noisy, sentence, category = row['src'], row['tgt'], 'cscd'\n",
    "    if len(sentence)!=len(sentence_noisy):\n",
    "        raise ValueError('sentence length not matched')\n",
    "    sentences_noisy.append(sentence_noisy)\n",
    "    sentences.append(sentence)\n",
    "    categories.append(category)"
   ]
  },
  {
   "cell_type": "code",
   "execution_count": 10,
   "id": "6bf630e9",
   "metadata": {},
   "outputs": [],
   "source": [
    "dev_df = pd.DataFrame({\n",
    "    'sentence': sentences,\n",
    "    'sentence_noisy': sentences_noisy,\n",
    "    'category': categories\n",
    "})  \n",
    "dev_ds = datasets.Dataset.from_pandas(dev_df)"
   ]
  },
  {
   "cell_type": "code",
   "execution_count": 4,
   "id": "ab9d1e21",
   "metadata": {},
   "outputs": [],
   "source": [
    "sentences_noisy = []\n",
    "sentences = []\n",
    "categories = []\n",
    "\n",
    "for path in glob('C-LLM/test/*.json'):\n",
    "    filename = os.path.basename(path)\n",
    "    category = filename.split('.json')[0]\n",
    "    with open(path, \"r\", encoding='utf-8') as f:\n",
    "        datas = json.load(f)\n",
    "    for row in datas:\n",
    "        sentence_noisy, sentence = row['src'], row['tgt']\n",
    "        if len(sentence)!=len(sentence_noisy):\n",
    "            raise ValueError('sentence length not matched')\n",
    "        sentences_noisy.append(sentence_noisy)\n",
    "        sentences.append(sentence)\n",
    "        categories.append(category)"
   ]
  },
  {
   "cell_type": "code",
   "execution_count": 5,
   "id": "3e1a997f",
   "metadata": {},
   "outputs": [],
   "source": [
    "test_df = pd.DataFrame({\n",
    "    'sentence': sentences,\n",
    "    'sentence_noisy': sentences_noisy,\n",
    "    'category': categories\n",
    "})  \n",
    "test_ds = datasets.Dataset.from_pandas(test_df)"
   ]
  },
  {
   "cell_type": "code",
   "execution_count": 6,
   "id": "771b7005",
   "metadata": {},
   "outputs": [
    {
     "data": {
      "text/html": [
       "<div>\n",
       "<style scoped>\n",
       "    .dataframe tbody tr th:only-of-type {\n",
       "        vertical-align: middle;\n",
       "    }\n",
       "\n",
       "    .dataframe tbody tr th {\n",
       "        vertical-align: top;\n",
       "    }\n",
       "\n",
       "    .dataframe thead th {\n",
       "        text-align: right;\n",
       "    }\n",
       "</style>\n",
       "<table border=\"1\" class=\"dataframe\">\n",
       "  <thead>\n",
       "    <tr style=\"text-align: right;\">\n",
       "      <th></th>\n",
       "      <th>sentence</th>\n",
       "      <th>sentence_noisy</th>\n",
       "      <th>category</th>\n",
       "    </tr>\n",
       "  </thead>\n",
       "  <tbody>\n",
       "    <tr>\n",
       "      <th>0</th>\n",
       "      <td>在最近的福特资本市场日投资者介绍会上,首席产品平台和运营官</td>\n",
       "      <td>在最近的福特资本市场日投资者介绍会上,首席产品平台和运营干</td>\n",
       "      <td>car</td>\n",
       "    </tr>\n",
       "    <tr>\n",
       "      <th>1</th>\n",
       "      <td>前脸大尺寸镀铬进气栅搭配上竖条状LED日行灯,让该车看上去十分有气势。</td>\n",
       "      <td>前脸大尺寸镀格进气栅搭配上竖条状LED日行灯,让该车看上去十分有气势。</td>\n",
       "      <td>car</td>\n",
       "    </tr>\n",
       "    <tr>\n",
       "      <th>2</th>\n",
       "      <td>汽车在运行过程中,不可避免地会产生一定的积碳和磨损,貌似都是小问题,时间久了,就会造成燃油浪...</td>\n",
       "      <td>汽车在运行过程中,不可避免地会产生一定的积碳和磨损,貌似都是小问题,时间久了,就会造成燃油浪...</td>\n",
       "      <td>car</td>\n",
       "    </tr>\n",
       "    <tr>\n",
       "      <th>3</th>\n",
       "      <td>在这之前,宏光MINI</td>\n",
       "      <td>再这之前,宏光MINI</td>\n",
       "      <td>car</td>\n",
       "    </tr>\n",
       "    <tr>\n",
       "      <th>4</th>\n",
       "      <td>这是社会责任,不要说什么扣分罚钱,就算扣分罚钱你也应该让。</td>\n",
       "      <td>这是社会责任,不要说什么扣分罚钱,就算扣分发钱你也应该让。</td>\n",
       "      <td>car</td>\n",
       "    </tr>\n",
       "    <tr>\n",
       "      <th>...</th>\n",
       "      <td>...</td>\n",
       "      <td>...</td>\n",
       "      <td>...</td>\n",
       "    </tr>\n",
       "    <tr>\n",
       "      <th>26726</th>\n",
       "      <td>因受家庭浓厚的文化熏陶,少玉6岁时就进了度尾铸德小学读书,以后又先后就读于陶德初中和国立福州...</td>\n",
       "      <td>因受家庭浓厚的文化熏陶,少玉6岁时就进了度尾铸德小学读书,以后又先后就读于陶德初中和国立福州...</td>\n",
       "      <td>enc</td>\n",
       "    </tr>\n",
       "    <tr>\n",
       "      <th>26727</th>\n",
       "      <td>用于合奏钢琴的调律,还可以起到统一标准的作用。</td>\n",
       "      <td>用于合奏钢琴的调律,还可以起到统一标准的作用。</td>\n",
       "      <td>enc</td>\n",
       "    </tr>\n",
       "    <tr>\n",
       "      <th>26728</th>\n",
       "      <td>竹邑人薛综至孙子薛兼三代任太子少傅,“由综至兼,世传东宫,谈者美之。”</td>\n",
       "      <td>竹邑人薛综至孙子薛兼三代任太子少傅,“由综至兼,世传东宫,谈者美之。”</td>\n",
       "      <td>enc</td>\n",
       "    </tr>\n",
       "    <tr>\n",
       "      <th>26729</th>\n",
       "      <td>9年未发行专辑的那英于近期发行全新大碟《那又怎样》,同时还将顺势启动全新主题和概念的“那英·...</td>\n",
       "      <td>9年未发行专辑的那英于近期发行全新大碟《那又怎样》,同时还将顺势启动全新主题和概念的“那英·...</td>\n",
       "      <td>enc</td>\n",
       "    </tr>\n",
       "    <tr>\n",
       "      <th>26730</th>\n",
       "      <td>2010年发表《邪神归来》,声名鹊起,长期蝉联各大榜单的前列。</td>\n",
       "      <td>2010年发表《邪神归来》,声名鹊起,长期蝉联各大榜单的前列。</td>\n",
       "      <td>enc</td>\n",
       "    </tr>\n",
       "  </tbody>\n",
       "</table>\n",
       "<p>26731 rows × 3 columns</p>\n",
       "</div>"
      ],
      "text/plain": [
       "                                                sentence  \\\n",
       "0                          在最近的福特资本市场日投资者介绍会上,首席产品平台和运营官   \n",
       "1                    前脸大尺寸镀铬进气栅搭配上竖条状LED日行灯,让该车看上去十分有气势。   \n",
       "2      汽车在运行过程中,不可避免地会产生一定的积碳和磨损,貌似都是小问题,时间久了,就会造成燃油浪...   \n",
       "3                                            在这之前,宏光MINI   \n",
       "4                          这是社会责任,不要说什么扣分罚钱,就算扣分罚钱你也应该让。   \n",
       "...                                                  ...   \n",
       "26726  因受家庭浓厚的文化熏陶,少玉6岁时就进了度尾铸德小学读书,以后又先后就读于陶德初中和国立福州...   \n",
       "26727                            用于合奏钢琴的调律,还可以起到统一标准的作用。   \n",
       "26728                竹邑人薛综至孙子薛兼三代任太子少傅,“由综至兼,世传东宫,谈者美之。”   \n",
       "26729  9年未发行专辑的那英于近期发行全新大碟《那又怎样》,同时还将顺势启动全新主题和概念的“那英·...   \n",
       "26730                    2010年发表《邪神归来》,声名鹊起,长期蝉联各大榜单的前列。   \n",
       "\n",
       "                                          sentence_noisy category  \n",
       "0                          在最近的福特资本市场日投资者介绍会上,首席产品平台和运营干      car  \n",
       "1                    前脸大尺寸镀格进气栅搭配上竖条状LED日行灯,让该车看上去十分有气势。      car  \n",
       "2      汽车在运行过程中,不可避免地会产生一定的积碳和磨损,貌似都是小问题,时间久了,就会造成燃油浪...      car  \n",
       "3                                            再这之前,宏光MINI      car  \n",
       "4                          这是社会责任,不要说什么扣分罚钱,就算扣分发钱你也应该让。      car  \n",
       "...                                                  ...      ...  \n",
       "26726  因受家庭浓厚的文化熏陶,少玉6岁时就进了度尾铸德小学读书,以后又先后就读于陶德初中和国立福州...      enc  \n",
       "26727                            用于合奏钢琴的调律,还可以起到统一标准的作用。      enc  \n",
       "26728                竹邑人薛综至孙子薛兼三代任太子少傅,“由综至兼,世传东宫,谈者美之。”      enc  \n",
       "26729  9年未发行专辑的那英于近期发行全新大碟《那又怎样》,同时还将顺势启动全新主题和概念的“那英·...      enc  \n",
       "26730                    2010年发表《邪神归来》,声名鹊起,长期蝉联各大榜单的前列。      enc  \n",
       "\n",
       "[26731 rows x 3 columns]"
      ]
     },
     "execution_count": 6,
     "metadata": {},
     "output_type": "execute_result"
    }
   ],
   "source": [
    "test_df"
   ]
  },
  {
   "cell_type": "code",
   "execution_count": 11,
   "id": "aa4ec621",
   "metadata": {},
   "outputs": [],
   "source": [
    "ds = datasets.DatasetDict({\n",
    "    'train': train_ds,\n",
    "    'dev': dev_ds,\n",
    "    'test': test_ds\n",
    "})"
   ]
  },
  {
   "cell_type": "code",
   "execution_count": 12,
   "id": "b78183a6",
   "metadata": {},
   "outputs": [
    {
     "name": "stderr",
     "output_type": "stream",
     "text": [
      "Creating parquet from Arrow format: 100%|██████████| 332/332 [00:00<00:00, 902.50ba/s]\n",
      "Uploading the dataset shards: 100%|██████████| 1/1 [00:01<00:00,  1.28s/it]\n",
      "Creating parquet from Arrow format: 100%|██████████| 5/5 [00:00<00:00, 456.44ba/s]\n",
      "Uploading the dataset shards: 100%|██████████| 1/1 [00:00<00:00,  1.24it/s]\n",
      "Creating parquet from Arrow format: 100%|██████████| 27/27 [00:00<00:00, 943.71ba/s]\n",
      "Uploading the dataset shards: 100%|██████████| 1/1 [00:02<00:00,  2.56s/it]\n"
     ]
    },
    {
     "data": {
      "text/plain": [
       "CommitInfo(commit_url='https://huggingface.co/datasets/jwengr/C-LLM/commit/8e29fbcb7f4c49e1bd457984e05e37c1048f36f1', commit_message='Upload dataset', commit_description='', oid='8e29fbcb7f4c49e1bd457984e05e37c1048f36f1', pr_url=None, repo_url=RepoUrl('https://huggingface.co/datasets/jwengr/C-LLM', endpoint='https://huggingface.co', repo_type='dataset', repo_id='jwengr/C-LLM'), pr_revision=None, pr_num=None)"
      ]
     },
     "execution_count": 12,
     "metadata": {},
     "output_type": "execute_result"
    }
   ],
   "source": [
    "ds.push_to_hub(repo_id=f'jwengr/C-LLM', private=False)"
   ]
  },
  {
   "cell_type": "code",
   "execution_count": null,
   "id": "506729c7",
   "metadata": {},
   "outputs": [],
   "source": []
  }
 ],
 "metadata": {
  "kernelspec": {
   "display_name": "jjw1214_py312",
   "language": "python",
   "name": "python3"
  },
  "language_info": {
   "codemirror_mode": {
    "name": "ipython",
    "version": 3
   },
   "file_extension": ".py",
   "mimetype": "text/x-python",
   "name": "python",
   "nbconvert_exporter": "python",
   "pygments_lexer": "ipython3",
   "version": "3.12.0"
  }
 },
 "nbformat": 4,
 "nbformat_minor": 5
}
