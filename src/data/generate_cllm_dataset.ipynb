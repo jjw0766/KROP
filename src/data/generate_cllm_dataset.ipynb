{
 "cells": [
  {
   "cell_type": "code",
   "execution_count": 1,
   "id": "3351f7d6",
   "metadata": {},
   "outputs": [
    {
     "data": {
      "text/plain": [
       "True"
      ]
     },
     "execution_count": 1,
     "metadata": {},
     "output_type": "execute_result"
    }
   ],
   "source": [
    "from dotenv import load_dotenv\n",
    "load_dotenv()"
   ]
  },
  {
   "cell_type": "code",
   "execution_count": 21,
   "id": "9df71df6",
   "metadata": {},
   "outputs": [],
   "source": [
    "import os\n",
    "import json\n",
    "import pandas as pd\n",
    "import datasets\n",
    "\n",
    "from tqdm.auto import tqdm\n",
    "from glob import glob"
   ]
  },
  {
   "cell_type": "code",
   "execution_count": 12,
   "id": "b6e029e4",
   "metadata": {},
   "outputs": [],
   "source": [
    "with open(\"C-LLM/train/wang_cscd_train.json\", \"r\", encoding='utf-8') as f:\n",
    "\twang_cscd_train = json.load(f)\n",
    "with open(\"C-LLM/train/cscd_train.json\", \"r\", encoding='utf-8') as f:\n",
    "\tcscd_train = json.load(f)\n",
    "with open(\"C-LLM/train/cscd_dev.json\", \"r\", encoding='utf-8') as f:\n",
    "\tcscd_dev = json.load(f)"
   ]
  },
  {
   "cell_type": "code",
   "execution_count": 13,
   "id": "95944e9a",
   "metadata": {},
   "outputs": [],
   "source": [
    "sentences_noisy = []\n",
    "sentences = []\n",
    "categories = []\n",
    "\n",
    "for row in wang_cscd_train:\n",
    "    sentence_noisy, sentence, category = row['src'], row['tgt'], 'wang_cscd'\n",
    "    if len(sentence)!=len(sentence_noisy):\n",
    "        raise ValueError('sentence length not matched')\n",
    "    sentences_noisy.append(sentence_noisy)\n",
    "    sentences.append(sentence)\n",
    "    categories.append(category)\n",
    "\n",
    "for row in cscd_train:\n",
    "    sentence_noisy, sentence, category = row['src'], row['tgt'], 'cscd'\n",
    "    if len(sentence)!=len(sentence_noisy):\n",
    "        raise ValueError('sentence length not matched')\n",
    "    sentences_noisy.append(sentence_noisy)\n",
    "    sentences.append(sentence)\n",
    "    categories.append(category)"
   ]
  },
  {
   "cell_type": "code",
   "execution_count": 20,
   "id": "bc34d85f",
   "metadata": {},
   "outputs": [],
   "source": [
    "train_df = pd.DataFrame({\n",
    "    'sentence': sentences,\n",
    "    'sentence_noisy': sentences_noisy,\n",
    "    'category': categories\n",
    "})  \n",
    "train_ds = datasets.Dataset.from_pandas(train_df)"
   ]
  },
  {
   "cell_type": "code",
   "execution_count": 35,
   "id": "7add0ec6",
   "metadata": {},
   "outputs": [],
   "source": [
    "sentences_noisy = []\n",
    "sentences = []\n",
    "categories = []\n",
    "\n",
    "for row in cscd_dev:\n",
    "    sentence_noisy, sentence, category = row['src'], row['tgt'], 'cscd'\n",
    "    if len(sentence)!=len(sentence_noisy):\n",
    "        raise ValueError('sentence length not matched')\n",
    "    sentences_noisy.append(sentence_noisy)\n",
    "    sentences.append(sentence)\n",
    "    categories.append(category)"
   ]
  },
  {
   "cell_type": "code",
   "execution_count": 37,
   "id": "6bf630e9",
   "metadata": {},
   "outputs": [],
   "source": [
    "dev_df = pd.DataFrame({\n",
    "    'sentence': sentences,\n",
    "    'sentence_noisy': sentences_noisy,\n",
    "    'category': categories\n",
    "})  \n",
    "dev_ds = datasets.Dataset.from_pandas(dev_df)"
   ]
  },
  {
   "cell_type": "code",
   "execution_count": 32,
   "id": "ab9d1e21",
   "metadata": {},
   "outputs": [],
   "source": [
    "sentences_noisy = []\n",
    "sentences = []\n",
    "categories = []\n",
    "\n",
    "for path in glob('C-LLM/test/*.json'):\n",
    "    filename = os.path.basename(path)\n",
    "    category = filename.split('.json')[0]\n",
    "    with open(path, \"r\", encoding='utf-8') as f:\n",
    "        datas = json.load(f)\n",
    "    for row in wang_cscd_train:\n",
    "        sentence_noisy, sentence = row['src'], row['tgt']\n",
    "        if len(sentence)!=len(sentence_noisy):\n",
    "            raise ValueError('sentence length not matched')\n",
    "        sentences_noisy.append(sentence_noisy)\n",
    "        sentences.append(sentence)\n",
    "        categories.append(category)"
   ]
  },
  {
   "cell_type": "code",
   "execution_count": 34,
   "id": "3e1a997f",
   "metadata": {},
   "outputs": [],
   "source": [
    "test_df = pd.DataFrame({\n",
    "    'sentence': sentences,\n",
    "    'sentence_noisy': sentences_noisy,\n",
    "    'category': categories\n",
    "})  \n",
    "test_ds = datasets.Dataset.from_pandas(test_df)"
   ]
  },
  {
   "cell_type": "code",
   "execution_count": 38,
   "id": "aa4ec621",
   "metadata": {},
   "outputs": [],
   "source": [
    "ds = datasets.DatasetDict({\n",
    "    'train': train_ds,\n",
    "    'dev': dev_ds,\n",
    "    'test': test_ds\n",
    "})"
   ]
  },
  {
   "cell_type": "code",
   "execution_count": 39,
   "id": "b78183a6",
   "metadata": {},
   "outputs": [
    {
     "data": {
      "application/vnd.jupyter.widget-view+json": {
       "model_id": "9bd99fd8cbfa4b3f9b108e2f1f55044c",
       "version_major": 2,
       "version_minor": 0
      },
      "text/plain": [
       "Uploading the dataset shards:   0%|          | 0/1 [00:00<?, ?it/s]"
      ]
     },
     "metadata": {},
     "output_type": "display_data"
    },
    {
     "data": {
      "application/vnd.jupyter.widget-view+json": {
       "model_id": "a0a98229b25244319a05dc0e12501d63",
       "version_major": 2,
       "version_minor": 0
      },
      "text/plain": [
       "Creating parquet from Arrow format:   0%|          | 0/332 [00:00<?, ?ba/s]"
      ]
     },
     "metadata": {},
     "output_type": "display_data"
    },
    {
     "data": {
      "application/vnd.jupyter.widget-view+json": {
       "model_id": "f71a7dbd037c4684bf30ff205c865109",
       "version_major": 2,
       "version_minor": 0
      },
      "text/plain": [
       "Uploading the dataset shards:   0%|          | 0/1 [00:00<?, ?it/s]"
      ]
     },
     "metadata": {},
     "output_type": "display_data"
    },
    {
     "data": {
      "application/vnd.jupyter.widget-view+json": {
       "model_id": "727f696c6821429d900c6d327be601c6",
       "version_major": 2,
       "version_minor": 0
      },
      "text/plain": [
       "Creating parquet from Arrow format:   0%|          | 0/5 [00:00<?, ?ba/s]"
      ]
     },
     "metadata": {},
     "output_type": "display_data"
    },
    {
     "data": {
      "application/vnd.jupyter.widget-view+json": {
       "model_id": "8aa2b1994b4e46c49e677738c1e15e1a",
       "version_major": 2,
       "version_minor": 0
      },
      "text/plain": [
       "Uploading the dataset shards:   0%|          | 0/2 [00:00<?, ?it/s]"
      ]
     },
     "metadata": {},
     "output_type": "display_data"
    },
    {
     "data": {
      "application/vnd.jupyter.widget-view+json": {
       "model_id": "c274b8256500466ebf5a9ef82b9abcc4",
       "version_major": 2,
       "version_minor": 0
      },
      "text/plain": [
       "Creating parquet from Arrow format:   0%|          | 0/1206 [00:00<?, ?ba/s]"
      ]
     },
     "metadata": {},
     "output_type": "display_data"
    },
    {
     "data": {
      "application/vnd.jupyter.widget-view+json": {
       "model_id": "8409b1b5572c493c8d7f5cf3c87fafd5",
       "version_major": 2,
       "version_minor": 0
      },
      "text/plain": [
       "Creating parquet from Arrow format:   0%|          | 0/1206 [00:00<?, ?ba/s]"
      ]
     },
     "metadata": {},
     "output_type": "display_data"
    },
    {
     "data": {
      "text/plain": [
       "CommitInfo(commit_url='https://huggingface.co/datasets/jwengr/C-LLM/commit/f090f1c90d31187967d8c0c6e1e4b02fef7e1004', commit_message='Upload dataset', commit_description='', oid='f090f1c90d31187967d8c0c6e1e4b02fef7e1004', pr_url=None, repo_url=RepoUrl('https://huggingface.co/datasets/jwengr/C-LLM', endpoint='https://huggingface.co', repo_type='dataset', repo_id='jwengr/C-LLM'), pr_revision=None, pr_num=None)"
      ]
     },
     "execution_count": 39,
     "metadata": {},
     "output_type": "execute_result"
    }
   ],
   "source": [
    "ds.push_to_hub(repo_id=f'jwengr/C-LLM', private=False)"
   ]
  }
 ],
 "metadata": {
  "kernelspec": {
   "display_name": "KROP-L3im0CPD",
   "language": "python",
   "name": "python3"
  },
  "language_info": {
   "codemirror_mode": {
    "name": "ipython",
    "version": 3
   },
   "file_extension": ".py",
   "mimetype": "text/x-python",
   "name": "python",
   "nbconvert_exporter": "python",
   "pygments_lexer": "ipython3",
   "version": "3.12.7"
  }
 },
 "nbformat": 4,
 "nbformat_minor": 5
}
