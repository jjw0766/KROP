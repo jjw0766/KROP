{
 "cells": [
  {
   "cell_type": "code",
   "execution_count": 34,
   "id": "17bccd3c",
   "metadata": {},
   "outputs": [],
   "source": [
    "import datasets\n",
    "import regex"
   ]
  },
  {
   "cell_type": "code",
   "execution_count": 16,
   "id": "72efebf6",
   "metadata": {},
   "outputs": [
    {
     "data": {
      "application/vnd.jupyter.widget-view+json": {
       "model_id": "aecfb691f0e24587bce5676605ae1d37",
       "version_major": 2,
       "version_minor": 0
      },
      "text/plain": [
       "README.md:   0%|          | 0.00/276 [00:00<?, ?B/s]"
      ]
     },
     "metadata": {},
     "output_type": "display_data"
    },
    {
     "name": "stderr",
     "output_type": "stream",
     "text": [
      "Xet Storage is enabled for this repo, but the 'hf_xet' package is not installed. Falling back to regular HTTP download. For better performance, install the package with: `pip install huggingface_hub[hf_xet]` or `pip install hf_xet`\n"
     ]
    },
    {
     "data": {
      "application/vnd.jupyter.widget-view+json": {
       "model_id": "2931e8ddd695450c939801a4a37602b9",
       "version_major": 2,
       "version_minor": 0
      },
      "text/plain": [
       "train.csv:   0%|          | 0.00/843M [00:00<?, ?B/s]"
      ]
     },
     "metadata": {},
     "output_type": "display_data"
    },
    {
     "data": {
      "application/vnd.jupyter.widget-view+json": {
       "model_id": "264f4b29ec29460184013b26f1e968d4",
       "version_major": 2,
       "version_minor": 0
      },
      "text/plain": [
       "val.csv: 0.00B [00:00, ?B/s]"
      ]
     },
     "metadata": {},
     "output_type": "display_data"
    },
    {
     "data": {
      "application/vnd.jupyter.widget-view+json": {
       "model_id": "27d240dbc39043d1ac391bcae3e24f8f",
       "version_major": 2,
       "version_minor": 0
      },
      "text/plain": [
       "test.csv: 0.00B [00:00, ?B/s]"
      ]
     },
     "metadata": {},
     "output_type": "display_data"
    },
    {
     "data": {
      "application/vnd.jupyter.widget-view+json": {
       "model_id": "3fa34e8d38844a92b3c6de894c7af27b",
       "version_major": 2,
       "version_minor": 0
      },
      "text/plain": [
       "Generating train split:   0%|          | 0/1581405 [00:00<?, ? examples/s]"
      ]
     },
     "metadata": {},
     "output_type": "display_data"
    },
    {
     "data": {
      "application/vnd.jupyter.widget-view+json": {
       "model_id": "6e75017aba844924b6ec2c32f86b97d4",
       "version_major": 2,
       "version_minor": 0
      },
      "text/plain": [
       "Generating validation split:   0%|          | 0/10000 [00:00<?, ? examples/s]"
      ]
     },
     "metadata": {},
     "output_type": "display_data"
    },
    {
     "data": {
      "application/vnd.jupyter.widget-view+json": {
       "model_id": "c0dbc3fc7f754f3283418b73fc1db6ab",
       "version_major": 2,
       "version_minor": 0
      },
      "text/plain": [
       "Generating test split:   0%|          | 0/10000 [00:00<?, ? examples/s]"
      ]
     },
     "metadata": {},
     "output_type": "display_data"
    }
   ],
   "source": [
    "ds = datasets.load_dataset('cfilt/RoundTripOCR-marathi')"
   ]
  },
  {
   "cell_type": "code",
   "execution_count": 37,
   "id": "94829d5c",
   "metadata": {},
   "outputs": [
    {
     "data": {
      "text/plain": [
       "{'ocr': None,\n",
       " 'correct': 'टिहरी राजांच्या शासनकाळात मंदिरांच्या निर्मितीसाठी नियम बनविले गेले.',\n",
       " 'font': 'Sarai'}"
      ]
     },
     "execution_count": 37,
     "metadata": {},
     "output_type": "execute_result"
    }
   ],
   "source": [
    "d"
   ]
  },
  {
   "cell_type": "code",
   "execution_count": 38,
   "id": "72e77cde",
   "metadata": {},
   "outputs": [],
   "source": [
    "for d in ds['train']:\n",
    "    if d['ocr'] is None:\n",
    "        continue\n",
    "    sentence_noisy = d['ocr'].strip()\n",
    "    sentence = d['correct'].strip()\n",
    "\n",
    "    if not sentence_noisy.endswith('.'):\n",
    "        sentence_noisy = sentence_noisy + '.'\n",
    "    if not sentence.endswith('.'):\n",
    "        sentence = sentence + '.'\n",
    "\n",
    "    if len(regex.findall(r'\\X', sentence_noisy)) != len(regex.findall(r'\\X', sentence_noisy)):\n",
    "        print(len(sentence), len(sentence_noisy))\n",
    "        break"
   ]
  },
  {
   "cell_type": "code",
   "execution_count": null,
   "id": "17796a28",
   "metadata": {},
   "outputs": [],
   "source": [
    "len(sentence) != len(sentence_noisy)"
   ]
  },
  {
   "cell_type": "code",
   "execution_count": 32,
   "id": "be3bbd76",
   "metadata": {},
   "outputs": [
    {
     "data": {
      "text/plain": [
       "89"
      ]
     },
     "execution_count": 32,
     "metadata": {},
     "output_type": "execute_result"
    }
   ],
   "source": [
    "len(list(sentence))"
   ]
  },
  {
   "cell_type": "code",
   "execution_count": 33,
   "id": "e7407883",
   "metadata": {},
   "outputs": [
    {
     "data": {
      "text/plain": [
       "88"
      ]
     },
     "execution_count": 33,
     "metadata": {},
     "output_type": "execute_result"
    }
   ],
   "source": [
    "len(sentence_noisy)"
   ]
  },
  {
   "cell_type": "code",
   "execution_count": 28,
   "id": "ad053186",
   "metadata": {},
   "outputs": [
    {
     "name": "stdout",
     "output_type": "stream",
     "text": [
      "फ फ\n",
      "ु ु\n",
      "ल ल\n",
      "ा ा\n",
      "ं ं\n",
      "च च\n",
      "् ्\n",
      "य य\n",
      "ा ा\n",
      "   \n",
      "द द\n",
      "र र\n",
      "ी ी\n",
      "च च\n",
      "ा ा\n",
      "   \n",
      "श श\n",
      "ो ो\n",
      "ध ध\n",
      "   \n",
      "१ १\n",
      "९ ९\n",
      "३ ३\n",
      "१ १\n",
      "   \n",
      "म म\n",
      "ध ध\n",
      "् ्\n",
      "य य\n",
      "े े\n",
      "   \n",
      "ए ए\n",
      "क क\n",
      "   \n",
      "प प\n",
      "् ्\n",
      "र र\n",
      "स स\n",
      "ि ि\n",
      "द द\n",
      "् ्\n",
      "ध ध\n",
      "   \n",
      "ब ब\n",
      "् ्\n",
      "र र\n",
      "ि ि\n",
      "ट ट\n",
      "ि ि\n",
      "श श\n",
      "   \n",
      "ग ग\n",
      "ि ि\n",
      "र र\n",
      "् ्\n",
      "य य\n",
      "ा ा\n",
      "र र\n",
      "ो ो\n",
      "ह ह\n",
      "क क\n",
      "   \n",
      "फ फ\n",
      "् ्\n",
      "र र\n",
      "ै ँ\n",
      "ं क\n",
      "क  \n",
      "  स\n",
      "स ्\n",
      "् म\n",
      "म ा\n",
      "ा इ\n",
      "इ थ\n",
      "थ न\n",
      "न े\n",
      "े  \n",
      "  ल\n",
      "ल ा\n",
      "ा व\n",
      "व ल\n",
      "ल ा\n",
      "ा  \n",
      "  ह\n",
      "ह ो\n",
      "ो त\n",
      "त ा\n",
      "ा .\n"
     ]
    }
   ],
   "source": [
    "for s,s_n in zip(sentence, sentence_noisy):\n",
    "    print(s, s_n)"
   ]
  },
  {
   "cell_type": "code",
   "execution_count": 24,
   "id": "a6576184",
   "metadata": {},
   "outputs": [
    {
     "data": {
      "text/plain": [
       "'फुलांच्या दरीचा शोध १९३१ मध्ये एक प्रसिद्ध ब्रिटिश गिर्यारोहक फ्रँक स्माइथने लावला होता'"
      ]
     },
     "execution_count": 24,
     "metadata": {},
     "output_type": "execute_result"
    }
   ],
   "source": [
    "sentence_noisy"
   ]
  },
  {
   "cell_type": "code",
   "execution_count": 1,
   "id": "b64f22c0",
   "metadata": {},
   "outputs": [],
   "source": [
    "import pandas as pd"
   ]
  },
  {
   "cell_type": "code",
   "execution_count": 3,
   "id": "85ebaef9",
   "metadata": {},
   "outputs": [],
   "source": [
    "test_df = pd.read_csv('PeOcrSanskrit/test_devnagari.csv')"
   ]
  },
  {
   "cell_type": "code",
   "execution_count": 12,
   "id": "e504d732",
   "metadata": {},
   "outputs": [],
   "source": [
    "test_df['input_text'] = test_df['input_text'].apply(lambda x: x.strip())\n",
    "test_df['target_text'] = test_df['target_text'].apply(lambda x: x.strip())"
   ]
  },
  {
   "cell_type": "code",
   "execution_count": 14,
   "id": "688cfff1",
   "metadata": {},
   "outputs": [
    {
     "data": {
      "text/plain": [
       "array(['प्रागभाव-- सकरन्दः ।', 'प्रागभाव- मकरन्दः ।'], dtype=object)"
      ]
     },
     "execution_count": 14,
     "metadata": {},
     "output_type": "execute_result"
    }
   ],
   "source": [
    "test_df.iloc[0].values"
   ]
  },
  {
   "cell_type": "code",
   "execution_count": 13,
   "id": "013053fb",
   "metadata": {},
   "outputs": [
    {
     "data": {
      "text/plain": [
       "0       False\n",
       "1       False\n",
       "2       False\n",
       "3       False\n",
       "4        True\n",
       "        ...  \n",
       "4995    False\n",
       "4996     True\n",
       "4997     True\n",
       "4998     True\n",
       "4999     True\n",
       "Length: 5000, dtype: bool"
      ]
     },
     "execution_count": 13,
     "metadata": {},
     "output_type": "execute_result"
    }
   ],
   "source": [
    "test_df['input_text'].apply(len) == test_df['target_text'].apply(len)"
   ]
  }
 ],
 "metadata": {
  "kernelspec": {
   "display_name": "KROP-sezSv-b5",
   "language": "python",
   "name": "python3"
  },
  "language_info": {
   "codemirror_mode": {
    "name": "ipython",
    "version": 3
   },
   "file_extension": ".py",
   "mimetype": "text/x-python",
   "name": "python",
   "nbconvert_exporter": "python",
   "pygments_lexer": "ipython3",
   "version": "3.12.11"
  }
 },
 "nbformat": 4,
 "nbformat_minor": 5
}
