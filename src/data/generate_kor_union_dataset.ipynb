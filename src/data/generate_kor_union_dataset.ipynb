{
 "cells": [
  {
   "cell_type": "code",
   "execution_count": 1,
   "id": "98aa6265",
   "metadata": {},
   "outputs": [
    {
     "data": {
      "text/plain": [
       "True"
      ]
     },
     "execution_count": 1,
     "metadata": {},
     "output_type": "execute_result"
    }
   ],
   "source": [
    "from dotenv import load_dotenv\n",
    "load_dotenv()"
   ]
  },
  {
   "cell_type": "code",
   "execution_count": 2,
   "id": "f98d2deb",
   "metadata": {},
   "outputs": [],
   "source": [
    "import os\n",
    "import pandas as pd\n",
    "import datasets\n",
    "\n",
    "from tqdm.auto import tqdm\n",
    "from konoise import NoiseGenerator"
   ]
  },
  {
   "cell_type": "code",
   "execution_count": 3,
   "id": "f05e0c60",
   "metadata": {},
   "outputs": [],
   "source": [
    "train_filename = 'Kor-Union/union_train.txt'\n",
    "valid_filename = 'Kor-Union/union_dev.txt'\n",
    "test_filename = 'Kor-Union/union_test.txt'"
   ]
  },
  {
   "cell_type": "code",
   "execution_count": 5,
   "id": "54d9dae3",
   "metadata": {},
   "outputs": [
    {
     "data": {
      "application/vnd.jupyter.widget-view+json": {
       "model_id": "34b40619134942cda25f9e48d0258794",
       "version_major": 2,
       "version_minor": 0
      },
      "text/plain": [
       "  0%|          | 0/23334 [00:00<?, ?it/s]"
      ]
     },
     "metadata": {},
     "output_type": "display_data"
    },
    {
     "data": {
      "application/vnd.jupyter.widget-view+json": {
       "model_id": "698bdff3939b4ba6917c07539868c06a",
       "version_major": 2,
       "version_minor": 0
      },
      "text/plain": [
       "  0%|          | 0/23334 [00:00<?, ?it/s]"
      ]
     },
     "metadata": {},
     "output_type": "display_data"
    },
    {
     "data": {
      "application/vnd.jupyter.widget-view+json": {
       "model_id": "cb1c90c447c7426e96d88b2857b4150c",
       "version_major": 2,
       "version_minor": 0
      },
      "text/plain": [
       "  0%|          | 0/23334 [00:00<?, ?it/s]"
      ]
     },
     "metadata": {},
     "output_type": "display_data"
    }
   ],
   "source": [
    "ds_list = []\n",
    "for filename in [train_filename, valid_filename, test_filename]:\n",
    "    sentences = []\n",
    "    sentences_noisy = []\n",
    "    filename = test_filename\n",
    "    with open(filename, 'r', encoding='utf-8') as f:\n",
    "        lines = f.readlines()\n",
    "        for sentence in tqdm(lines):\n",
    "            try:\n",
    "                sentence_noisy, sentence = sentence.split('\\t')\n",
    "            except ValueError:\n",
    "                continue\n",
    "            sentence, sentence_noisy = sentence.strip(), sentence_noisy.strip()\n",
    "            if len(sentence) == len(sentence_noisy) and sentence!= sentence_noisy:\n",
    "                sentences.append(sentence)\n",
    "                sentences_noisy.append(sentence_noisy)\n",
    "    df = pd.DataFrame({\n",
    "        'sentence': sentences,\n",
    "        'sentence_noisy': sentences_noisy\n",
    "    })  \n",
    "    ds = datasets.Dataset.from_pandas(df)\n",
    "    ds_list.append(ds)\n"
   ]
  },
  {
   "cell_type": "code",
   "execution_count": 6,
   "id": "9b0e5f1d",
   "metadata": {},
   "outputs": [],
   "source": [
    "ds = datasets.DatasetDict({\n",
    "    'train': ds_list[0],\n",
    "    'dev': ds_list[1],\n",
    "    'test': ds_list[2]\n",
    "})"
   ]
  },
  {
   "cell_type": "code",
   "execution_count": 7,
   "id": "7baa7497",
   "metadata": {},
   "outputs": [
    {
     "data": {
      "application/vnd.jupyter.widget-view+json": {
       "model_id": "effc3eede20c42b4bfa1a63ce3b25533",
       "version_major": 2,
       "version_minor": 0
      },
      "text/plain": [
       "Uploading the dataset shards:   0%|          | 0/1 [00:00<?, ?it/s]"
      ]
     },
     "metadata": {},
     "output_type": "display_data"
    },
    {
     "data": {
      "application/vnd.jupyter.widget-view+json": {
       "model_id": "3ca89aa4902243baa0e234f3d083cd93",
       "version_major": 2,
       "version_minor": 0
      },
      "text/plain": [
       "Creating parquet from Arrow format:   0%|          | 0/7 [00:00<?, ?ba/s]"
      ]
     },
     "metadata": {},
     "output_type": "display_data"
    },
    {
     "data": {
      "application/vnd.jupyter.widget-view+json": {
       "model_id": "af19ee477c0241bba971b4e39a638900",
       "version_major": 2,
       "version_minor": 0
      },
      "text/plain": [
       "Uploading the dataset shards:   0%|          | 0/1 [00:00<?, ?it/s]"
      ]
     },
     "metadata": {},
     "output_type": "display_data"
    },
    {
     "data": {
      "application/vnd.jupyter.widget-view+json": {
       "model_id": "f684c92ce7424c569aaa11cd05fd31f2",
       "version_major": 2,
       "version_minor": 0
      },
      "text/plain": [
       "Creating parquet from Arrow format:   0%|          | 0/7 [00:00<?, ?ba/s]"
      ]
     },
     "metadata": {},
     "output_type": "display_data"
    },
    {
     "data": {
      "application/vnd.jupyter.widget-view+json": {
       "model_id": "1691767b9d6946d181ba2e5941ea2da2",
       "version_major": 2,
       "version_minor": 0
      },
      "text/plain": [
       "Uploading the dataset shards:   0%|          | 0/1 [00:00<?, ?it/s]"
      ]
     },
     "metadata": {},
     "output_type": "display_data"
    },
    {
     "data": {
      "application/vnd.jupyter.widget-view+json": {
       "model_id": "56ff6e0e224c493cb90c3dd3540cc082",
       "version_major": 2,
       "version_minor": 0
      },
      "text/plain": [
       "Creating parquet from Arrow format:   0%|          | 0/7 [00:00<?, ?ba/s]"
      ]
     },
     "metadata": {},
     "output_type": "display_data"
    },
    {
     "data": {
      "application/vnd.jupyter.widget-view+json": {
       "model_id": "8a913a6e651745738e20bdea14046249",
       "version_major": 2,
       "version_minor": 0
      },
      "text/plain": [
       "README.md:   0%|          | 0.00/315 [00:00<?, ?B/s]"
      ]
     },
     "metadata": {},
     "output_type": "display_data"
    },
    {
     "name": "stderr",
     "output_type": "stream",
     "text": [
      "c:\\Users\\jinwo\\.virtualenvs\\KROP-L3im0CPD\\Lib\\site-packages\\huggingface_hub\\file_download.py:143: UserWarning: `huggingface_hub` cache-system uses symlinks by default to efficiently store duplicated files but your machine does not support them in C:\\Users\\jinwo\\.cache\\huggingface\\hub\\datasets--jwengr--Kor-Union. Caching files will still work but in a degraded version that might require more space on your disk. This warning can be disabled by setting the `HF_HUB_DISABLE_SYMLINKS_WARNING` environment variable. For more details, see https://huggingface.co/docs/huggingface_hub/how-to-cache#limitations.\n",
      "To support symlinks on Windows, you either need to activate Developer Mode or to run Python as an administrator. In order to activate developer mode, see this article: https://docs.microsoft.com/en-us/windows/apps/get-started/enable-your-device-for-development\n",
      "  warnings.warn(message)\n"
     ]
    },
    {
     "data": {
      "text/plain": [
       "CommitInfo(commit_url='https://huggingface.co/datasets/jwengr/Kor-Union/commit/ab82a3c8c763a7eae6af36c008c7c420503199bd', commit_message='Upload dataset', commit_description='', oid='ab82a3c8c763a7eae6af36c008c7c420503199bd', pr_url=None, repo_url=RepoUrl('https://huggingface.co/datasets/jwengr/Kor-Union', endpoint='https://huggingface.co', repo_type='dataset', repo_id='jwengr/Kor-Union'), pr_revision=None, pr_num=None)"
      ]
     },
     "execution_count": 7,
     "metadata": {},
     "output_type": "execute_result"
    }
   ],
   "source": [
    "ds.push_to_hub(repo_id=f'jwengr/Kor-Union', private=True)"
   ]
  }
 ],
 "metadata": {
  "kernelspec": {
   "display_name": "KROP-L3im0CPD",
   "language": "python",
   "name": "python3"
  },
  "language_info": {
   "codemirror_mode": {
    "name": "ipython",
    "version": 3
   },
   "file_extension": ".py",
   "mimetype": "text/x-python",
   "name": "python",
   "nbconvert_exporter": "python",
   "pygments_lexer": "ipython3",
   "version": "3.12.7"
  }
 },
 "nbformat": 4,
 "nbformat_minor": 5
}
