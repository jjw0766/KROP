{
 "cells": [
  {
   "cell_type": "code",
   "execution_count": 1,
   "id": "98aa6265",
   "metadata": {},
   "outputs": [
    {
     "data": {
      "text/plain": [
       "True"
      ]
     },
     "execution_count": 1,
     "metadata": {},
     "output_type": "execute_result"
    }
   ],
   "source": [
    "from dotenv import load_dotenv\n",
    "load_dotenv()"
   ]
  },
  {
   "cell_type": "code",
   "execution_count": 2,
   "id": "f98d2deb",
   "metadata": {},
   "outputs": [],
   "source": [
    "import os\n",
    "import pandas as pd\n",
    "import datasets\n",
    "\n",
    "from tqdm.auto import tqdm\n",
    "from konoise import NoiseGenerator"
   ]
  },
  {
   "cell_type": "code",
   "execution_count": 5,
   "id": "f05e0c60",
   "metadata": {},
   "outputs": [],
   "source": [
    "test_filename = 'Kor-Union/union_test.txt'"
   ]
  },
  {
   "cell_type": "code",
   "execution_count": 14,
   "id": "54d9dae3",
   "metadata": {},
   "outputs": [
    {
     "data": {
      "application/vnd.jupyter.widget-view+json": {
       "model_id": "228218c5a40347f29700f76096ee1cef",
       "version_major": 2,
       "version_minor": 0
      },
      "text/plain": [
       "  0%|          | 0/23334 [00:00<?, ?it/s]"
      ]
     },
     "metadata": {},
     "output_type": "display_data"
    }
   ],
   "source": [
    "sentences = []\n",
    "sentences_noisy = []\n",
    "filename = test_filename\n",
    "with open(filename, 'r', encoding='utf-8') as f:\n",
    "    lines = f.readlines()\n",
    "    for sentence in tqdm(lines):\n",
    "        try:\n",
    "            sentence_noisy, sentence = sentence.split('\\t')\n",
    "        except :\n",
    "            continue\n",
    "        sentence, sentence_noisy = sentence.strip(), sentence_noisy.strip()\n",
    "        if len(sentence) == len(sentence_noisy) and sentence!= sentence_noisy:\n",
    "            sentences.append(sentence)\n",
    "            sentences_noisy.append(sentence_noisy)\n"
   ]
  },
  {
   "cell_type": "code",
   "execution_count": 15,
   "id": "9b0e5f1d",
   "metadata": {},
   "outputs": [],
   "source": [
    "df = pd.DataFrame({\n",
    "    'sentence': sentences,\n",
    "    'sentence_noisy': sentences_noisy\n",
    "})  "
   ]
  },
  {
   "cell_type": "code",
   "execution_count": 17,
   "id": "fb7f1e65",
   "metadata": {},
   "outputs": [],
   "source": [
    "test_ds = datasets.Dataset.from_pandas(df)"
   ]
  },
  {
   "cell_type": "code",
   "execution_count": 18,
   "id": "bba2f356",
   "metadata": {},
   "outputs": [],
   "source": [
    "ds = datasets.DatasetDict({\n",
    "    'test': test_ds\n",
    "})"
   ]
  },
  {
   "cell_type": "code",
   "execution_count": 19,
   "id": "7baa7497",
   "metadata": {},
   "outputs": [
    {
     "data": {
      "application/vnd.jupyter.widget-view+json": {
       "model_id": "c728f9636cda46cca772a70b537e1d89",
       "version_major": 2,
       "version_minor": 0
      },
      "text/plain": [
       "Uploading the dataset shards:   0%|          | 0/1 [00:00<?, ?it/s]"
      ]
     },
     "metadata": {},
     "output_type": "display_data"
    },
    {
     "data": {
      "application/vnd.jupyter.widget-view+json": {
       "model_id": "eb498792f5fd47808299985007c3a1e5",
       "version_major": 2,
       "version_minor": 0
      },
      "text/plain": [
       "Creating parquet from Arrow format:   0%|          | 0/7 [00:00<?, ?ba/s]"
      ]
     },
     "metadata": {},
     "output_type": "display_data"
    },
    {
     "data": {
      "text/plain": [
       "CommitInfo(commit_url='https://huggingface.co/datasets/jwengr/Kor-Union/commit/e17eabd8668aa460483ce7537e448b583723706d', commit_message='Upload dataset', commit_description='', oid='e17eabd8668aa460483ce7537e448b583723706d', pr_url=None, repo_url=RepoUrl('https://huggingface.co/datasets/jwengr/Kor-Union', endpoint='https://huggingface.co', repo_type='dataset', repo_id='jwengr/Kor-Union'), pr_revision=None, pr_num=None)"
      ]
     },
     "execution_count": 19,
     "metadata": {},
     "output_type": "execute_result"
    }
   ],
   "source": [
    "ds.push_to_hub(repo_id=f'jwengr/Kor-Union', private=True)"
   ]
  }
 ],
 "metadata": {
  "kernelspec": {
   "display_name": "KROP-L3im0CPD",
   "language": "python",
   "name": "python3"
  },
  "language_info": {
   "codemirror_mode": {
    "name": "ipython",
    "version": 3
   },
   "file_extension": ".py",
   "mimetype": "text/x-python",
   "name": "python",
   "nbconvert_exporter": "python",
   "pygments_lexer": "ipython3",
   "version": "3.12.7"
  }
 },
 "nbformat": 4,
 "nbformat_minor": 5
}
