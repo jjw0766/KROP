{
 "cells": [
  {
   "cell_type": "code",
   "execution_count": 1,
   "id": "f7a10afd",
   "metadata": {},
   "outputs": [
    {
     "data": {
      "text/plain": [
       "True"
      ]
     },
     "execution_count": 1,
     "metadata": {},
     "output_type": "execute_result"
    }
   ],
   "source": [
    "from dotenv import load_dotenv\n",
    "load_dotenv()"
   ]
  },
  {
   "cell_type": "code",
   "execution_count": 6,
   "id": "35a2a2aa",
   "metadata": {},
   "outputs": [],
   "source": [
    "import os\n",
    "import pandas as pd\n",
    "import datasets\n",
    "\n",
    "from tqdm.auto import tqdm\n",
    "from sklearn.model_selection import train_test_split\n",
    "from konoise import NoiseGenerator"
   ]
  },
  {
   "cell_type": "code",
   "execution_count": 7,
   "id": "2b351bb5",
   "metadata": {},
   "outputs": [],
   "source": [
    "train_df = pd.read_csv('DACON/train.csv')\n"
   ]
  },
  {
   "cell_type": "code",
   "execution_count": 8,
   "id": "bdfcd9d2",
   "metadata": {},
   "outputs": [],
   "source": [
    "train_df['input'] = train_df['input'].apply(lambda x: x.strip())\n",
    "train_df['output'] = train_df['output'].apply(lambda x: x.strip())"
   ]
  },
  {
   "cell_type": "code",
   "execution_count": 12,
   "id": "45a5e2e9",
   "metadata": {},
   "outputs": [],
   "source": [
    "train_df = train_df[train_df['input'].apply(len)==train_df['output'].apply(len)].reset_index(drop=True)"
   ]
  },
  {
   "cell_type": "code",
   "execution_count": 13,
   "id": "a47e734c",
   "metadata": {},
   "outputs": [],
   "source": [
    "dev_test_size = int(len(train_df)*0.1)"
   ]
  },
  {
   "cell_type": "code",
   "execution_count": 14,
   "id": "59792560",
   "metadata": {},
   "outputs": [],
   "source": [
    "train_df, test_df = train_test_split(train_df, test_size=dev_test_size, random_state=42)\n",
    "train_df, valid_df = train_test_split(train_df, test_size=dev_test_size, random_state=42)"
   ]
  },
  {
   "cell_type": "code",
   "execution_count": 15,
   "id": "465a7c63",
   "metadata": {},
   "outputs": [],
   "source": [
    "train_df = train_df.rename(columns={'input': 'sentence', 'output': 'sentence_noisy'}).drop(columns=['ID']).reset_index(drop=True)\n",
    "valid_df = valid_df.rename(columns={'input': 'sentence', 'output': 'sentence_noisy'}).drop(columns=['ID']).reset_index(drop=True)\n",
    "test_df = test_df.rename(columns={'input': 'sentence', 'output': 'sentence_noisy'}).drop(columns=['ID']).reset_index(drop=True)"
   ]
  },
  {
   "cell_type": "code",
   "execution_count": 16,
   "id": "89184d6e",
   "metadata": {},
   "outputs": [],
   "source": [
    "train_ds = datasets.Dataset.from_pandas(train_df.reset_index(drop=True))\n",
    "valid_ds = datasets.Dataset.from_pandas(valid_df.reset_index(drop=True))\n",
    "test_ds = datasets.Dataset.from_pandas(test_df.reset_index(drop=True))"
   ]
  },
  {
   "cell_type": "code",
   "execution_count": 17,
   "id": "5c82ddc2",
   "metadata": {},
   "outputs": [],
   "source": [
    "ds = datasets.DatasetDict({\n",
    "    'train': train_ds,\n",
    "    'dev': valid_ds,\n",
    "    'test': test_ds\n",
    "})"
   ]
  },
  {
   "cell_type": "code",
   "execution_count": 18,
   "id": "3b7afe65",
   "metadata": {},
   "outputs": [
    {
     "data": {
      "application/vnd.jupyter.widget-view+json": {
       "model_id": "1d9b9a16243b4d67ad18a1bcc5917b2a",
       "version_major": 2,
       "version_minor": 0
      },
      "text/plain": [
       "Uploading the dataset shards:   0%|          | 0/1 [00:00<?, ?it/s]"
      ]
     },
     "metadata": {},
     "output_type": "display_data"
    },
    {
     "data": {
      "application/vnd.jupyter.widget-view+json": {
       "model_id": "cc802ca2a3514b79971e5a4f27f5b668",
       "version_major": 2,
       "version_minor": 0
      },
      "text/plain": [
       "Creating parquet from Arrow format:   0%|          | 0/10 [00:00<?, ?ba/s]"
      ]
     },
     "metadata": {},
     "output_type": "display_data"
    },
    {
     "data": {
      "application/vnd.jupyter.widget-view+json": {
       "model_id": "9168e7349e11450ba88ec147500c90d2",
       "version_major": 2,
       "version_minor": 0
      },
      "text/plain": [
       "Uploading the dataset shards:   0%|          | 0/1 [00:00<?, ?it/s]"
      ]
     },
     "metadata": {},
     "output_type": "display_data"
    },
    {
     "data": {
      "application/vnd.jupyter.widget-view+json": {
       "model_id": "9a42ef543ea549afac146f071d882c6b",
       "version_major": 2,
       "version_minor": 0
      },
      "text/plain": [
       "Creating parquet from Arrow format:   0%|          | 0/2 [00:00<?, ?ba/s]"
      ]
     },
     "metadata": {},
     "output_type": "display_data"
    },
    {
     "data": {
      "application/vnd.jupyter.widget-view+json": {
       "model_id": "602e7a14274b459b81b23e808527cd33",
       "version_major": 2,
       "version_minor": 0
      },
      "text/plain": [
       "Uploading the dataset shards:   0%|          | 0/1 [00:00<?, ?it/s]"
      ]
     },
     "metadata": {},
     "output_type": "display_data"
    },
    {
     "data": {
      "application/vnd.jupyter.widget-view+json": {
       "model_id": "6fb2a1421db24995924d302518b600ed",
       "version_major": 2,
       "version_minor": 0
      },
      "text/plain": [
       "Creating parquet from Arrow format:   0%|          | 0/2 [00:00<?, ?ba/s]"
      ]
     },
     "metadata": {},
     "output_type": "display_data"
    },
    {
     "data": {
      "text/plain": [
       "CommitInfo(commit_url='https://huggingface.co/datasets/jwengr/DACON-Korean-Review-Obfuscation/commit/0c329e80909703379a98363879aa9dd8efabd745', commit_message='Upload dataset', commit_description='', oid='0c329e80909703379a98363879aa9dd8efabd745', pr_url=None, repo_url=RepoUrl('https://huggingface.co/datasets/jwengr/DACON-Korean-Review-Obfuscation', endpoint='https://huggingface.co', repo_type='dataset', repo_id='jwengr/DACON-Korean-Review-Obfuscation'), pr_revision=None, pr_num=None)"
      ]
     },
     "execution_count": 18,
     "metadata": {},
     "output_type": "execute_result"
    }
   ],
   "source": [
    "ds.push_to_hub(repo_id=f'jwengr/DACON-Korean-Review-Obfuscation')"
   ]
  },
  {
   "cell_type": "code",
   "execution_count": null,
   "id": "ac1083e0",
   "metadata": {},
   "outputs": [],
   "source": []
  }
 ],
 "metadata": {
  "kernelspec": {
   "display_name": "KROP-L3im0CPD",
   "language": "python",
   "name": "python3"
  },
  "language_info": {
   "codemirror_mode": {
    "name": "ipython",
    "version": 3
   },
   "file_extension": ".py",
   "mimetype": "text/x-python",
   "name": "python",
   "nbconvert_exporter": "python",
   "pygments_lexer": "ipython3",
   "version": "3.12.7"
  }
 },
 "nbformat": 4,
 "nbformat_minor": 5
}
