{
 "cells": [
  {
   "cell_type": "code",
   "execution_count": 1,
   "id": "f7a10afd",
   "metadata": {},
   "outputs": [
    {
     "data": {
      "text/plain": [
       "True"
      ]
     },
     "execution_count": 1,
     "metadata": {},
     "output_type": "execute_result"
    }
   ],
   "source": [
    "from dotenv import load_dotenv\n",
    "load_dotenv()"
   ]
  },
  {
   "cell_type": "code",
   "execution_count": 5,
   "id": "35a2a2aa",
   "metadata": {},
   "outputs": [],
   "source": [
    "import os\n",
    "import pandas as pd\n",
    "import datasets\n",
    "\n",
    "from tqdm.auto import tqdm\n",
    "from sklearn.model_selection import train_test_split\n",
    "from konoise import NoiseGenerator"
   ]
  },
  {
   "cell_type": "code",
   "execution_count": 28,
   "id": "2b351bb5",
   "metadata": {},
   "outputs": [],
   "source": [
    "train_df = pd.read_csv('DACON/train.csv')\n"
   ]
  },
  {
   "cell_type": "code",
   "execution_count": 29,
   "id": "a47e734c",
   "metadata": {},
   "outputs": [],
   "source": [
    "dev_test_size = int(len(train_df)*0.1)"
   ]
  },
  {
   "cell_type": "code",
   "execution_count": 30,
   "id": "59792560",
   "metadata": {},
   "outputs": [],
   "source": [
    "train_df, test_df = train_test_split(train_df, test_size=dev_test_size, random_state=42)\n",
    "train_df, valid_df = train_test_split(train_df, test_size=dev_test_size, random_state=42)"
   ]
  },
  {
   "cell_type": "code",
   "execution_count": 31,
   "id": "465a7c63",
   "metadata": {},
   "outputs": [],
   "source": [
    "train_df = train_df.rename(columns={'input': 'sentence', 'output': 'sentence_noisy'}).drop(columns=['ID']).reset_index(drop=True)\n",
    "valid_df = valid_df.rename(columns={'input': 'sentence', 'output': 'sentence_noisy'}).drop(columns=['ID']).reset_index(drop=True)\n",
    "test_df = test_df.rename(columns={'input': 'sentence', 'output': 'sentence_noisy'}).drop(columns=['ID']).reset_index(drop=True)"
   ]
  },
  {
   "cell_type": "code",
   "execution_count": 32,
   "id": "89184d6e",
   "metadata": {},
   "outputs": [],
   "source": [
    "train_ds = datasets.Dataset.from_pandas(train_df.reset_index(drop=True))\n",
    "valid_ds = datasets.Dataset.from_pandas(valid_df.reset_index(drop=True))\n",
    "test_ds = datasets.Dataset.from_pandas(test_df.reset_index(drop=True))"
   ]
  },
  {
   "cell_type": "code",
   "execution_count": 35,
   "id": "5c82ddc2",
   "metadata": {},
   "outputs": [],
   "source": [
    "ds = datasets.DatasetDict({\n",
    "\n",
    "    'test': test_ds\n",
    "})"
   ]
  },
  {
   "cell_type": "code",
   "execution_count": 36,
   "id": "3b7afe65",
   "metadata": {},
   "outputs": [
    {
     "data": {
      "application/vnd.jupyter.widget-view+json": {
       "model_id": "007d4d166434428a835ae251acc602bc",
       "version_major": 2,
       "version_minor": 0
      },
      "text/plain": [
       "Uploading the dataset shards:   0%|          | 0/1 [00:00<?, ?it/s]"
      ]
     },
     "metadata": {},
     "output_type": "display_data"
    },
    {
     "data": {
      "application/vnd.jupyter.widget-view+json": {
       "model_id": "10325736c5934ea589be2871e8b6352f",
       "version_major": 2,
       "version_minor": 0
      },
      "text/plain": [
       "Creating parquet from Arrow format:   0%|          | 0/2 [00:00<?, ?ba/s]"
      ]
     },
     "metadata": {},
     "output_type": "display_data"
    },
    {
     "data": {
      "application/vnd.jupyter.widget-view+json": {
       "model_id": "14f071c2e3a246c284d9711880ffcd13",
       "version_major": 2,
       "version_minor": 0
      },
      "text/plain": [
       "README.md:   0%|          | 0.00/514 [00:00<?, ?B/s]"
      ]
     },
     "metadata": {},
     "output_type": "display_data"
    },
    {
     "name": "stderr",
     "output_type": "stream",
     "text": [
      "c:\\Users\\jinwo\\.virtualenvs\\KROP-L3im0CPD\\Lib\\site-packages\\huggingface_hub\\file_download.py:143: UserWarning: `huggingface_hub` cache-system uses symlinks by default to efficiently store duplicated files but your machine does not support them in C:\\Users\\jinwo\\.cache\\huggingface\\hub\\datasets--jwengr--DACON-Korean-Review-Obfuscation. Caching files will still work but in a degraded version that might require more space on your disk. This warning can be disabled by setting the `HF_HUB_DISABLE_SYMLINKS_WARNING` environment variable. For more details, see https://huggingface.co/docs/huggingface_hub/how-to-cache#limitations.\n",
      "To support symlinks on Windows, you either need to activate Developer Mode or to run Python as an administrator. In order to activate developer mode, see this article: https://docs.microsoft.com/en-us/windows/apps/get-started/enable-your-device-for-development\n",
      "  warnings.warn(message)\n"
     ]
    },
    {
     "data": {
      "text/plain": [
       "CommitInfo(commit_url='https://huggingface.co/datasets/jwengr/DACON-Korean-Review-Obfuscation/commit/6e181a306f68c48bb0bbcaf53f91ac2120b2d5ce', commit_message='Upload dataset', commit_description='', oid='6e181a306f68c48bb0bbcaf53f91ac2120b2d5ce', pr_url=None, repo_url=RepoUrl('https://huggingface.co/datasets/jwengr/DACON-Korean-Review-Obfuscation', endpoint='https://huggingface.co', repo_type='dataset', repo_id='jwengr/DACON-Korean-Review-Obfuscation'), pr_revision=None, pr_num=None)"
      ]
     },
     "execution_count": 36,
     "metadata": {},
     "output_type": "execute_result"
    }
   ],
   "source": [
    "ds.push_to_hub(repo_id=f'jwengr/DACON-Korean-Review-Obfuscation')"
   ]
  },
  {
   "cell_type": "code",
   "execution_count": null,
   "id": "ac1083e0",
   "metadata": {},
   "outputs": [],
   "source": []
  }
 ],
 "metadata": {
  "kernelspec": {
   "display_name": "KROP-L3im0CPD",
   "language": "python",
   "name": "python3"
  },
  "language_info": {
   "codemirror_mode": {
    "name": "ipython",
    "version": 3
   },
   "file_extension": ".py",
   "mimetype": "text/x-python",
   "name": "python",
   "nbconvert_exporter": "python",
   "pygments_lexer": "ipython3",
   "version": "3.12.7"
  }
 },
 "nbformat": 4,
 "nbformat_minor": 5
}
