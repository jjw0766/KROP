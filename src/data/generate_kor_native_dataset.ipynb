{
 "cells": [
  {
   "cell_type": "code",
   "execution_count": 1,
   "id": "caa97eee",
   "metadata": {},
   "outputs": [
    {
     "data": {
      "text/plain": [
       "True"
      ]
     },
     "execution_count": 1,
     "metadata": {},
     "output_type": "execute_result"
    }
   ],
   "source": [
    "from dotenv import load_dotenv\n",
    "load_dotenv()"
   ]
  },
  {
   "cell_type": "code",
   "execution_count": 2,
   "id": "ffd622c0",
   "metadata": {},
   "outputs": [],
   "source": [
    "import os\n",
    "import pandas as pd\n",
    "import datasets\n",
    "\n",
    "from tqdm.auto import tqdm\n",
    "from konoise import NoiseGenerator"
   ]
  },
  {
   "cell_type": "code",
   "execution_count": 10,
   "id": "e4973771",
   "metadata": {},
   "outputs": [],
   "source": [
    "test_filename = 'Kor-Native/native_test.txt'"
   ]
  },
  {
   "cell_type": "code",
   "execution_count": 11,
   "id": "dea8aa64",
   "metadata": {},
   "outputs": [
    {
     "data": {
      "application/vnd.jupyter.widget-view+json": {
       "model_id": "60f5ac1ff7ee4496bd6809bb4a70fd7d",
       "version_major": 2,
       "version_minor": 0
      },
      "text/plain": [
       "  0%|          | 0/2634 [00:00<?, ?it/s]"
      ]
     },
     "metadata": {},
     "output_type": "display_data"
    }
   ],
   "source": [
    "sentences = []\n",
    "sentences_noisy = []\n",
    "filename = test_filename\n",
    "with open(filename, 'r', encoding='utf-8') as f:\n",
    "    lines = f.readlines()\n",
    "    for sentence in tqdm(lines):\n",
    "        sentence_noisy, sentence = sentence.split('\\t')\n",
    "        sentence, sentence_noisy = sentence.strip(), sentence_noisy.strip()\n",
    "        if len(sentence) == len(sentence_noisy) and sentence!= sentence_noisy:\n",
    "            sentences.append(sentence)\n",
    "            sentences_noisy.append(sentence_noisy)\n"
   ]
  },
  {
   "cell_type": "code",
   "execution_count": 13,
   "id": "9fb13b1c",
   "metadata": {},
   "outputs": [],
   "source": [
    "df = pd.DataFrame({\n",
    "    'sentence': sentences,\n",
    "    'sentence_noisy': sentences_noisy\n",
    "})  "
   ]
  },
  {
   "cell_type": "code",
   "execution_count": 15,
   "id": "b562456e",
   "metadata": {},
   "outputs": [],
   "source": [
    "test_ds = datasets.Dataset.from_pandas(df)"
   ]
  },
  {
   "cell_type": "code",
   "execution_count": 16,
   "id": "94efcffd",
   "metadata": {},
   "outputs": [],
   "source": [
    "ds = datasets.DatasetDict({\n",
    "    'test': test_ds\n",
    "})"
   ]
  },
  {
   "cell_type": "code",
   "execution_count": 17,
   "id": "d752f39b",
   "metadata": {},
   "outputs": [
    {
     "data": {
      "application/vnd.jupyter.widget-view+json": {
       "model_id": "43b44d8fdaa5413e9afa2494fedcb1d7",
       "version_major": 2,
       "version_minor": 0
      },
      "text/plain": [
       "Uploading the dataset shards:   0%|          | 0/1 [00:00<?, ?it/s]"
      ]
     },
     "metadata": {},
     "output_type": "display_data"
    },
    {
     "data": {
      "application/vnd.jupyter.widget-view+json": {
       "model_id": "86b5303ce39949e0b95825ca7258ae5c",
       "version_major": 2,
       "version_minor": 0
      },
      "text/plain": [
       "Creating parquet from Arrow format:   0%|          | 0/1 [00:00<?, ?ba/s]"
      ]
     },
     "metadata": {},
     "output_type": "display_data"
    },
    {
     "data": {
      "text/plain": [
       "CommitInfo(commit_url='https://huggingface.co/datasets/jwengr/Kor-Native/commit/41072ae49a40e8c84e480d3b77c6f7cdb369af38', commit_message='Upload dataset', commit_description='', oid='41072ae49a40e8c84e480d3b77c6f7cdb369af38', pr_url=None, repo_url=RepoUrl('https://huggingface.co/datasets/jwengr/Kor-Native', endpoint='https://huggingface.co', repo_type='dataset', repo_id='jwengr/Kor-Native'), pr_revision=None, pr_num=None)"
      ]
     },
     "execution_count": 17,
     "metadata": {},
     "output_type": "execute_result"
    }
   ],
   "source": [
    "ds.push_to_hub(repo_id=f'jwengr/Kor-Native', private=True)"
   ]
  },
  {
   "cell_type": "code",
   "execution_count": null,
   "id": "83a0fe33",
   "metadata": {},
   "outputs": [],
   "source": []
  }
 ],
 "metadata": {
  "kernelspec": {
   "display_name": "KROP-L3im0CPD",
   "language": "python",
   "name": "python3"
  },
  "language_info": {
   "codemirror_mode": {
    "name": "ipython",
    "version": 3
   },
   "file_extension": ".py",
   "mimetype": "text/x-python",
   "name": "python",
   "nbconvert_exporter": "python",
   "pygments_lexer": "ipython3",
   "version": "3.12.7"
  }
 },
 "nbformat": 4,
 "nbformat_minor": 5
}
