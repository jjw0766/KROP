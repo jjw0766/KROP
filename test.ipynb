{
 "cells": [
  {
   "cell_type": "code",
   "execution_count": 3,
   "id": "58805b9a",
   "metadata": {},
   "outputs": [],
   "source": [
    "from src.metrics.ChfF import chrf_corpus\n",
    "\n",
    "import pandas as pd"
   ]
  },
  {
   "cell_type": "code",
   "execution_count": 28,
   "id": "88a8d8e0",
   "metadata": {},
   "outputs": [],
   "source": [
    "df = pd.read_csv('results/bind_ToxiBenchCN-Qwen3-0.6B-Base-seed=42--epoch=09-valid_score=67.2945.csv')"
   ]
  },
  {
   "cell_type": "code",
   "execution_count": 29,
   "id": "e49af9ba",
   "metadata": {},
   "outputs": [
    {
     "name": "stdout",
     "output_type": "stream",
     "text": [
      "emo 78.8075726834124\n",
      "homo 56.09504184513585\n",
      "pinyin 52.34272943685219\n",
      "radical 69.73511737550903\n",
      "swap 52.38966617300682\n",
      "trad 92.18336200032617\n"
     ]
    }
   ],
   "source": [
    "for category in sorted(set(df['category'])):\n",
    "    cat_df = df[df['category']==category].copy()\n",
    "    print(category, chrf_corpus(cat_df['pred'].tolist(), cat_df['true'].tolist())['f1'])"
   ]
  },
  {
   "cell_type": "code",
   "execution_count": 30,
   "id": "90207686",
   "metadata": {},
   "outputs": [
    {
     "data": {
      "text/html": [
       "<div>\n",
       "<style scoped>\n",
       "    .dataframe tbody tr th:only-of-type {\n",
       "        vertical-align: middle;\n",
       "    }\n",
       "\n",
       "    .dataframe tbody tr th {\n",
       "        vertical-align: top;\n",
       "    }\n",
       "\n",
       "    .dataframe thead th {\n",
       "        text-align: right;\n",
       "    }\n",
       "</style>\n",
       "<table border=\"1\" class=\"dataframe\">\n",
       "  <thead>\n",
       "    <tr style=\"text-align: right;\">\n",
       "      <th></th>\n",
       "      <th>input</th>\n",
       "      <th>pred</th>\n",
       "      <th>true</th>\n",
       "      <th>category</th>\n",
       "    </tr>\n",
       "  </thead>\n",
       "  <tbody>\n",
       "    <tr>\n",
       "      <th>0</th>\n",
       "      <td>其他💦方是💦🌧️黑，上海这个只是说了实话怎么能算黑</td>\n",
       "      <td>其他地方是地域黑，上海这个只是说了实话怎么能算黑</td>\n",
       "      <td>其他地方是地域黑，上海这个只是说了实话怎么能算黑</td>\n",
       "      <td>emo</td>\n",
       "    </tr>\n",
       "    <tr>\n",
       "      <th>1</th>\n",
       "      <td>什么👩用🀂1️⃣📝，这就把我的臭🧦子塞进去</td>\n",
       "      <td>什么女用西一圾，这就把我的臭造子塞进去</td>\n",
       "      <td>什么女用洗衣机，这就把我的臭袜子塞进去</td>\n",
       "      <td>emo</td>\n",
       "    </tr>\n",
       "    <tr>\n",
       "      <th>2</th>\n",
       "      <td>异⭐恋属阳，是♨常的，同⭐恋属阴，是👋♨常的</td>\n",
       "      <td>异性恋属阳，是正常的，同性恋属阴，是不正常的</td>\n",
       "      <td>异性恋属阳，是正常的，同性恋属阴，是不正常的</td>\n",
       "      <td>emo</td>\n",
       "    </tr>\n",
       "    <tr>\n",
       "      <th>3</th>\n",
       "      <td>那还有假，这些黑醋最喜欢做的事就是⬆害别人，干违法乱📝的事</td>\n",
       "      <td>那还有假，这些黑醋最喜欢做的事就是伤害别人，干违法乱基的事</td>\n",
       "      <td>那还有假，这些黑醋最喜欢做的事就是伤害别人，干违法乱纪的事</td>\n",
       "      <td>emo</td>\n",
       "    </tr>\n",
       "    <tr>\n",
       "      <th>4</th>\n",
       "      <td>每个在华黑人都会有3个以上的eg</td>\n",
       "      <td>每个在华黑人都会有3个以上的eg</td>\n",
       "      <td>每个在华黑人都会有3个以上的eg</td>\n",
       "      <td>emo</td>\n",
       "    </tr>\n",
       "    <tr>\n",
       "      <th>...</th>\n",
       "      <td>...</td>\n",
       "      <td>...</td>\n",
       "      <td>...</td>\n",
       "      <td>...</td>\n",
       "    </tr>\n",
       "    <tr>\n",
       "      <th>1526</th>\n",
       "      <td>什么？同连小日本都跪？</td>\n",
       "      <td>什么？同同小日本都跪？</td>\n",
       "      <td>什么？同连小日本都跪？</td>\n",
       "      <td>trad</td>\n",
       "    </tr>\n",
       "    <tr>\n",
       "      <th>1527</th>\n",
       "      <td>什么二婚幸福大部分瞎編</td>\n",
       "      <td>什么二婚幸福大部分瞎眼</td>\n",
       "      <td>什么二婚幸福大部分瞎编</td>\n",
       "      <td>trad</td>\n",
       "    </tr>\n",
       "    <tr>\n",
       "      <th>1528</th>\n",
       "      <td>一般会这么想，竟然真有憨批找黑人</td>\n",
       "      <td>一般会这么想，竟然真有憨批找黑人</td>\n",
       "      <td>一般会这么想，竟然真有憨批找黑人</td>\n",
       "      <td>trad</td>\n",
       "    </tr>\n",
       "    <tr>\n",
       "      <th>1529</th>\n",
       "      <td>自己找不到女朋友，怪黑人？</td>\n",
       "      <td>自己找不到女朋友，怪黑人？</td>\n",
       "      <td>自己找不到女朋友，怪黑人？</td>\n",
       "      <td>trad</td>\n",
       "    </tr>\n",
       "    <tr>\n",
       "      <th>1530</th>\n",
       "      <td>那些也是NT！</td>\n",
       "      <td>那些也是NT！</td>\n",
       "      <td>那些也是NT！</td>\n",
       "      <td>trad</td>\n",
       "    </tr>\n",
       "  </tbody>\n",
       "</table>\n",
       "<p>1531 rows × 4 columns</p>\n",
       "</div>"
      ],
      "text/plain": [
       "                              input                           pred  \\\n",
       "0         其他💦方是💦🌧️黑，上海这个只是说了实话怎么能算黑       其他地方是地域黑，上海这个只是说了实话怎么能算黑   \n",
       "1             什么👩用🀂1️⃣📝，这就把我的臭🧦子塞进去            什么女用西一圾，这就把我的臭造子塞进去   \n",
       "2            异⭐恋属阳，是♨常的，同⭐恋属阴，是👋♨常的         异性恋属阳，是正常的，同性恋属阴，是不正常的   \n",
       "3     那还有假，这些黑醋最喜欢做的事就是⬆害别人，干违法乱📝的事  那还有假，这些黑醋最喜欢做的事就是伤害别人，干违法乱基的事   \n",
       "4                  每个在华黑人都会有3个以上的eg               每个在华黑人都会有3个以上的eg   \n",
       "...                             ...                            ...   \n",
       "1526                    什么？同连小日本都跪？                    什么？同同小日本都跪？   \n",
       "1527                    什么二婚幸福大部分瞎編                    什么二婚幸福大部分瞎眼   \n",
       "1528               一般会这么想，竟然真有憨批找黑人               一般会这么想，竟然真有憨批找黑人   \n",
       "1529                  自己找不到女朋友，怪黑人？                  自己找不到女朋友，怪黑人？   \n",
       "1530                        那些也是NT！                        那些也是NT！   \n",
       "\n",
       "                               true category  \n",
       "0          其他地方是地域黑，上海这个只是说了实话怎么能算黑      emo  \n",
       "1               什么女用洗衣机，这就把我的臭袜子塞进去      emo  \n",
       "2            异性恋属阳，是正常的，同性恋属阴，是不正常的      emo  \n",
       "3     那还有假，这些黑醋最喜欢做的事就是伤害别人，干违法乱纪的事      emo  \n",
       "4                  每个在华黑人都会有3个以上的eg      emo  \n",
       "...                             ...      ...  \n",
       "1526                    什么？同连小日本都跪？     trad  \n",
       "1527                    什么二婚幸福大部分瞎编     trad  \n",
       "1528               一般会这么想，竟然真有憨批找黑人     trad  \n",
       "1529                  自己找不到女朋友，怪黑人？     trad  \n",
       "1530                        那些也是NT！     trad  \n",
       "\n",
       "[1531 rows x 4 columns]"
      ]
     },
     "execution_count": 30,
     "metadata": {},
     "output_type": "execute_result"
    }
   ],
   "source": [
    "df"
   ]
  }
 ],
 "metadata": {
  "kernelspec": {
   "display_name": "jjw1214_py312",
   "language": "python",
   "name": "python3"
  },
  "language_info": {
   "codemirror_mode": {
    "name": "ipython",
    "version": 3
   },
   "file_extension": ".py",
   "mimetype": "text/x-python",
   "name": "python",
   "nbconvert_exporter": "python",
   "pygments_lexer": "ipython3",
   "version": "3.12.0"
  }
 },
 "nbformat": 4,
 "nbformat_minor": 5
}
