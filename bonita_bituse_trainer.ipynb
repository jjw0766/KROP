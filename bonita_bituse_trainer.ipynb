{
 "cells": [
  {
   "cell_type": "code",
   "execution_count": 1,
   "id": "c5d8d13b",
   "metadata": {},
   "outputs": [
    {
     "data": {
      "text/plain": [
       "True"
      ]
     },
     "execution_count": 1,
     "metadata": {},
     "output_type": "execute_result"
    }
   ],
   "source": [
    "from dotenv import load_dotenv\n",
    "load_dotenv()"
   ]
  },
  {
   "cell_type": "code",
   "execution_count": 2,
   "id": "c604e036",
   "metadata": {},
   "outputs": [],
   "source": [
    "import datasets\n",
    "import lightning as L\n",
    "\n",
    "from lightning.pytorch.callbacks import ModelCheckpoint\n",
    "from torch.utils.data import DataLoader\n",
    "\n",
    "from src.model.modeling_bonita import LitBonita"
   ]
  },
  {
   "cell_type": "code",
   "execution_count": 3,
   "id": "58a5b6d0",
   "metadata": {},
   "outputs": [],
   "source": [
    "def train_valid_test_split(\n",
    "    ds,\n",
    "    split_ratio,\n",
    "    seed: int,\n",
    "):\n",
    "    ds_train_test = ds.train_test_split(\n",
    "        test_size=split_ratio[2] / sum(split_ratio), seed=seed\n",
    "    )\n",
    "    ds_train_valid = ds_train_test[\"train\"].train_test_split(\n",
    "        test_size=split_ratio[1] / (split_ratio[1] + split_ratio[0]), seed=seed\n",
    "    )\n",
    "    ds_train = ds_train_valid[\"train\"]\n",
    "    ds_valid = ds_train_valid[\"test\"]\n",
    "    ds_test = ds_train_test[\"test\"]\n",
    "    return ds_train, ds_valid, ds_test"
   ]
  },
  {
   "cell_type": "code",
   "execution_count": 4,
   "id": "7e46c978",
   "metadata": {},
   "outputs": [],
   "source": [
    "SEED=42\n",
    "DATASET_NAME = 'AutoML/bitabuse'\n",
    "MINI_BATCH_SIZE=2\n",
    "N_BATCH = 16\n",
    "BASE_MODEL_NAME='Qwen/Qwen3-0.6B-Base'\n",
    "EPOCHS=20\n",
    "LEARNING_RATE = 5e-5\n",
    "USE_BNTD=True\n",
    "MAX_LENGTH=32\n",
    "SPLITS = (1, 20, 79)\n",
    "INFERENCE_SENTENCE_MAX_LENGTH=256\n",
    "INFERENCE_SENTENCE_MIN_LENGTH=128\n",
    "INFERENCE_SENTENCE_N_OVERLAP=1"
   ]
  },
  {
   "cell_type": "code",
   "execution_count": 5,
   "id": "9b29e444",
   "metadata": {},
   "outputs": [
    {
     "name": "stderr",
     "output_type": "stream",
     "text": [
      "Seed set to 42\n"
     ]
    },
    {
     "data": {
      "text/plain": [
       "42"
      ]
     },
     "execution_count": 5,
     "metadata": {},
     "output_type": "execute_result"
    }
   ],
   "source": [
    "L.seed_everything(SEED)"
   ]
  },
  {
   "cell_type": "code",
   "execution_count": 6,
   "id": "bdbe781b",
   "metadata": {},
   "outputs": [],
   "source": [
    "ds = datasets.load_dataset(DATASET_NAME, split=\"train\")\n",
    "def preprocessing(example):\n",
    "    example['sentence_noisy'] = example['text'][:MAX_LENGTH]\n",
    "    example['sentence'] = example['label'][:MAX_LENGTH]\n",
    "    return example\n",
    "ds = ds.map(preprocessing)\n",
    "ds_train, ds_valid, ds_test = train_valid_test_split(\n",
    "    ds, SPLITS, SEED\n",
    ")\n"
   ]
  },
  {
   "cell_type": "code",
   "execution_count": 7,
   "id": "4e901ab1",
   "metadata": {},
   "outputs": [],
   "source": [
    "ds_valid = ds_valid.select(range(len(ds_train)))"
   ]
  },
  {
   "cell_type": "code",
   "execution_count": 8,
   "id": "2be5907e",
   "metadata": {},
   "outputs": [],
   "source": [
    "dl_train, dl_valid, dl_test = DataLoader(ds_train, batch_size=MINI_BATCH_SIZE), DataLoader(ds_valid, batch_size=MINI_BATCH_SIZE), DataLoader(ds_test, batch_size=1)"
   ]
  },
  {
   "cell_type": "code",
   "execution_count": 9,
   "id": "02576b1a",
   "metadata": {},
   "outputs": [],
   "source": [
    "lit_bind = LitBonita(\n",
    "    base_model_name=BASE_MODEL_NAME,\n",
    "    lr=LEARNING_RATE,\n",
    "    epochs=EPOCHS,\n",
    "    use_bntd=USE_BNTD,\n",
    "    inference_sentence_max_length=INFERENCE_SENTENCE_MAX_LENGTH,\n",
    "    inference_sentence_min_length=INFERENCE_SENTENCE_MIN_LENGTH,\n",
    "    inference_sentence_n_overlap=INFERENCE_SENTENCE_N_OVERLAP\n",
    ")"
   ]
  },
  {
   "cell_type": "code",
   "execution_count": 10,
   "id": "23fd958b",
   "metadata": {},
   "outputs": [],
   "source": [
    "checkpoint_callback = ModelCheckpoint(\n",
    "    dirpath='checkpoints/bonita',\n",
    "    filename=f\"{DATASET_NAME.split('/')[1]}/{BASE_MODEL_NAME.split('/')[1]}\"+\"-{epoch:02d}-{valid_loss:.4f}\",\n",
    "    every_n_epochs=1,\n",
    "    save_top_k=-1,\n",
    ")"
   ]
  },
  {
   "cell_type": "code",
   "execution_count": 11,
   "id": "06da5b9a",
   "metadata": {},
   "outputs": [
    {
     "name": "stderr",
     "output_type": "stream",
     "text": [
      "Using 16bit Automatic Mixed Precision (AMP)\n",
      "GPU available: True (cuda), used: True\n",
      "TPU available: False, using: 0 TPU cores\n",
      "HPU available: False, using: 0 HPUs\n"
     ]
    }
   ],
   "source": [
    "trainer = L.Trainer(\n",
    "    callbacks=[checkpoint_callback],\n",
    "    precision='16-mixed',\n",
    "    max_epochs=EPOCHS,\n",
    "    enable_checkpointing=True,\n",
    "    accumulate_grad_batches=N_BATCH\n",
    ")"
   ]
  },
  {
   "cell_type": "code",
   "execution_count": null,
   "id": "25062c25",
   "metadata": {},
   "outputs": [
    {
     "name": "stderr",
     "output_type": "stream",
     "text": [
      "You are using a CUDA device ('NVIDIA GeForce RTX 5070 Ti') that has Tensor Cores. To properly utilize them, you should set `torch.set_float32_matmul_precision('medium' | 'high')` which will trade-off precision for performance. For more details, read https://pytorch.org/docs/stable/generated/torch.set_float32_matmul_precision.html#torch.set_float32_matmul_precision\n",
      "c:\\Users\\jinwo\\.virtualenvs\\KROP-L3im0CPD\\Lib\\site-packages\\lightning\\pytorch\\callbacks\\model_checkpoint.py:658: Checkpoint directory C:\\Users\\jinwo\\Documents\\KROP\\checkpoints\\bonita exists and is not empty.\n",
      "LOCAL_RANK: 0 - CUDA_VISIBLE_DEVICES: [0]\n",
      "\n",
      "  | Name   | Type   | Params | Mode \n",
      "------------------------------------------\n",
      "0 | bonita | Bonita | 596 M  | train\n",
      "------------------------------------------\n",
      "596 M     Trainable params\n",
      "0         Non-trainable params\n",
      "596 M     Total params\n",
      "2,384.200 Total estimated model params size (MB)\n",
      "1         Modules in train mode\n",
      "427       Modules in eval mode\n"
     ]
    },
    {
     "data": {
      "application/vnd.jupyter.widget-view+json": {
       "model_id": "f7eb3643ff6c4edc9057ace712585570",
       "version_major": 2,
       "version_minor": 0
      },
      "text/plain": [
       "Sanity Checking: |          | 0/? [00:00<?, ?it/s]"
      ]
     },
     "metadata": {},
     "output_type": "display_data"
    },
    {
     "name": "stderr",
     "output_type": "stream",
     "text": [
      "c:\\Users\\jinwo\\.virtualenvs\\KROP-L3im0CPD\\Lib\\site-packages\\lightning\\pytorch\\trainer\\connectors\\data_connector.py:425: The 'val_dataloader' does not have many workers which may be a bottleneck. Consider increasing the value of the `num_workers` argument` to `num_workers=11` in the `DataLoader` to improve performance.\n",
      "c:\\Users\\jinwo\\.virtualenvs\\KROP-L3im0CPD\\Lib\\site-packages\\lightning\\pytorch\\trainer\\connectors\\data_connector.py:425: The 'train_dataloader' does not have many workers which may be a bottleneck. Consider increasing the value of the `num_workers` argument` to `num_workers=11` in the `DataLoader` to improve performance.\n"
     ]
    },
    {
     "data": {
      "application/vnd.jupyter.widget-view+json": {
       "model_id": "43c996352fb74bd58134c318da51cb2a",
       "version_major": 2,
       "version_minor": 0
      },
      "text/plain": [
       "Training: |          | 0/? [00:00<?, ?it/s]"
      ]
     },
     "metadata": {},
     "output_type": "display_data"
    }
   ],
   "source": [
    "trainer.fit(lit_bind, dl_train, dl_valid)"
   ]
  },
  {
   "cell_type": "code",
   "execution_count": 8,
   "id": "4d116eda",
   "metadata": {},
   "outputs": [],
   "source": [
    "lit_bonita = LitBonita.load_from_checkpoint(\n",
    "    'checkpoints/bonita/bitabuse/Qwen3-0.6B-Base-epoch=03-valid_loss=0.0168.ckpt',\n",
    "    base_model_name=BASE_MODEL_NAME,\n",
    "    lr=LEARNING_RATE,\n",
    "    epochs=EPOCHS,\n",
    "    use_bntd=USE_BNTD,\n",
    "    inference_sentence_max_length=INFERENCE_SENTENCE_MAX_LENGTH,\n",
    "    inference_sentence_min_length=INFERENCE_SENTENCE_MIN_LENGTH,\n",
    "    inference_sentence_n_overlap=INFERENCE_SENTENCE_N_OVERLAP\n",
    ")"
   ]
  },
  {
   "cell_type": "code",
   "execution_count": 9,
   "id": "9844461e",
   "metadata": {},
   "outputs": [
    {
     "name": "stderr",
     "output_type": "stream",
     "text": [
      "💡 Tip: For seamless cloud uploads and versioning, try installing [litmodels](https://pypi.org/project/litmodels/) to enable LitModelCheckpoint, which syncs automatically with the Lightning model registry.\n",
      "GPU available: True (cuda), used: True\n",
      "TPU available: False, using: 0 TPU cores\n",
      "HPU available: False, using: 0 HPUs\n"
     ]
    }
   ],
   "source": [
    "trainer = L.Trainer()"
   ]
  },
  {
   "cell_type": "code",
   "execution_count": null,
   "id": "624e536f",
   "metadata": {},
   "outputs": [
    {
     "name": "stderr",
     "output_type": "stream",
     "text": [
      "LOCAL_RANK: 0 - CUDA_VISIBLE_DEVICES: [0]\n",
      "c:\\Users\\jinwo\\.virtualenvs\\KROP-L3im0CPD\\Lib\\site-packages\\lightning\\pytorch\\trainer\\connectors\\data_connector.py:425: The 'predict_dataloader' does not have many workers which may be a bottleneck. Consider increasing the value of the `num_workers` argument` to `num_workers=11` in the `DataLoader` to improve performance.\n"
     ]
    },
    {
     "data": {
      "application/vnd.jupyter.widget-view+json": {
       "model_id": "cb5fce30aed24ef0b75c415eb2aad72f",
       "version_major": 2,
       "version_minor": 0
      },
      "text/plain": [
       "Predicting: |          | 0/? [00:00<?, ?it/s]"
      ]
     },
     "metadata": {},
     "output_type": "display_data"
    }
   ],
   "source": [
    "preds = trainer.predict(lit_bonita, dl_test)"
   ]
  },
  {
   "cell_type": "code",
   "execution_count": 15,
   "id": "f3762dc1",
   "metadata": {},
   "outputs": [
    {
     "name": "stdout",
     "output_type": "stream",
     "text": [
      "[\"here's one of your pass word [re\"]\n",
      "['immediately after that, i will g']\n",
      "['claims to be elon musk, just wai']\n",
      "['in case this does not occur - ev']\n",
      "['this is insane they even know my']\n",
      "['you have one day to pay.']\n",
      "['i am ahacker who openedyour emai']\n",
      "['when you have browsed the web pa']\n",
      "['i had a threatening spyware infe']\n",
      "['you actually have not one but tw']\n"
     ]
    }
   ],
   "source": [
    "for batch in dl_test:\n",
    "    print(batch['sentence'])"
   ]
  },
  {
   "cell_type": "code",
   "execution_count": 14,
   "id": "1ebf5c5b",
   "metadata": {},
   "outputs": [
    {
     "data": {
      "text/plain": [
       "[[\"here's one of your pass word [re\"],\n",
       " ['lmmediately after that, i will g'],\n",
       " ['claims to be alon musk, just wai'],\n",
       " ['in case this does not occur - ev'],\n",
       " ['this is insane they even know my'],\n",
       " ['you have one day to pay.'],\n",
       " ['i am ahacker who openedyour emal'],\n",
       " ['when you have browsed the wep pa'],\n",
       " ['i had a threatening spyware inre'],\n",
       " ['you actoally have not one but tw']]"
      ]
     },
     "execution_count": 14,
     "metadata": {},
     "output_type": "execute_result"
    }
   ],
   "source": [
    "preds"
   ]
  }
 ],
 "metadata": {
  "kernelspec": {
   "display_name": "KROP-L3im0CPD",
   "language": "python",
   "name": "python3"
  },
  "language_info": {
   "codemirror_mode": {
    "name": "ipython",
    "version": 3
   },
   "file_extension": ".py",
   "mimetype": "text/x-python",
   "name": "python",
   "nbconvert_exporter": "python",
   "pygments_lexer": "ipython3",
   "version": "3.12.7"
  }
 },
 "nbformat": 4,
 "nbformat_minor": 5
}
